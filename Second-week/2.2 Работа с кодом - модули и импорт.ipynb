{
 "cells": [
  {
   "cell_type": "markdown",
   "metadata": {},
   "source": [
    "# 2.2 Работа с кодом: модули и импорт"
   ]
  },
  {
   "cell_type": "code",
   "execution_count": null,
   "metadata": {},
   "outputs": [],
   "source": [
    "#Сохраним с именем BadName.py\n",
    "class BadName(Exception):\n",
    "    pass"
   ]
  },
  {
   "cell_type": "code",
   "execution_count": null,
   "metadata": {},
   "outputs": [],
   "source": [
    "import BadName    # мы можем создавать свои модули\n",
    "x = BadName.BadName()   # при  импортировании выполняется весь код импортированнаго модуля"
   ]
  },
  {
   "cell_type": "markdown",
   "metadata": {},
   "source": [
    "Из-за того что код исполнятеся при import'ировании могут возникнуть проблемы\n",
    "первое что приходит в голову, наш код  модуля может содержать не только определения классов и функций,\n",
    "а также вычесления значений, которые могут считаться долго и они нам не нужны при импортировании"
   ]
  },
  {
   "cell_type": "code",
   "execution_count": 1,
   "metadata": {},
   "outputs": [
    {
     "name": "stdout",
     "output_type": "stream",
     "text": [
      "2178309\n"
     ]
    }
   ],
   "source": [
    "#назовем этот файл fib.py\n",
    "def fib(x):\n",
    "    if x==0 or x==1:\n",
    "        return 1\n",
    "    return fib(x-2) + fib(x-1)\n",
    "print(fib(31))"
   ]
  },
  {
   "cell_type": "code",
   "execution_count": null,
   "metadata": {},
   "outputs": [],
   "source": [
    "import fib \n",
    "print('Hello') # строка 'Hello' выведется после вычесления fib(31) и с задержкой\n",
    "#2178309\n",
    "#Hello"
   ]
  },
  {
   "cell_type": "code",
   "execution_count": 3,
   "metadata": {},
   "outputs": [
    {
     "name": "stdout",
     "output_type": "stream",
     "text": [
      "__main__\n",
      "2178309\n"
     ]
    }
   ],
   "source": [
    "print(__name__)# глобальное имя __name__ ## print() выведет текующие имя нашего модуля\n",
    "def fib(x):                 #когда мы запускаем код с помощью интерпритатора \n",
    "    if x==0 or x==1:        # то наш модуль носит имя(__name__) __main__\n",
    "        return 1                  #если мы наше имя попробуем импортировать\n",
    "    return fib(x-2) + fib(x-1)\n",
    "print(fib(31))"
   ]
  },
  {
   "cell_type": "code",
   "execution_count": null,
   "metadata": {},
   "outputs": [],
   "source": [
    "import fib       #если мы наше имя попробуем импортировать, то имя модуля внутри модуля fib \n",
    "#fib               # изменится на само имя модуля"
   ]
  },
  {
   "cell_type": "code",
   "execution_count": null,
   "metadata": {},
   "outputs": [],
   "source": [
    "def fib(x):\n",
    "    if x==0 or x==1:\n",
    "        return 1\n",
    "    return fib(x-2) + fib(x-1)\n",
    "if __name__=='__main__':\n",
    "    print(fib(31))          # весь код который окажется внутри этого условного оператора при импорте исполняться\n",
    "                            # не будет"
   ]
  },
  {
   "cell_type": "markdown",
   "metadata": {},
   "source": [
    "не много больше информации на офф сайте https://docs.python.org/3/library/__main__.html"
   ]
  },
  {
   "cell_type": "code",
   "execution_count": null,
   "metadata": {},
   "outputs": [],
   "source": [
    "from exception import BadName\n",
    "from exception import BadName, greet\n",
    "from exception import BadName, greet as exc_greet #импортируем функцию greet под именем exc_greet\n",
    "from exception as exc\n",
    "from exception import *"
   ]
  },
  {
   "cell_type": "code",
   "execution_count": null,
   "metadata": {},
   "outputs": [],
   "source": [
    "greeting = \"Hello\"\n",
    "class BadName(Exception):\n",
    "    pass\n",
    "def greet():\n",
    "    pass\n",
    "__all__ = ['BadName', 'greet']  # в __all__ указываются имена, которые будут импортроваться при помощи\n",
    "                                # from exception import *"
   ]
  },
  {
   "cell_type": "markdown",
   "metadata": {},
   "source": [
    "имя переменных, начинающихся с _(нижнее подчеркивание) так же не импортируются при __from exception import *__"
   ]
  },
  {
   "cell_type": "code",
   "execution_count": null,
   "metadata": {},
   "outputs": [],
   "source": []
  },
  {
   "cell_type": "markdown",
   "metadata": {},
   "source": [
    "## Система импорта в Python"
   ]
  },
  {
   "cell_type": "markdown",
   "metadata": {},
   "source": [
    "Законспектировать это будет очень сложно, поэтому оставлю ссылку на видеоролик\n",
    "https://stepik.org/lesson/24466/step/3?auth=login&unit=6773\n",
    "Правило: __Повторное импортирование не выполняется__"
   ]
  },
  {
   "cell_type": "markdown",
   "metadata": {},
   "source": [
    "## Задачки "
   ]
  },
  {
   "cell_type": "markdown",
   "metadata": {},
   "source": [
    "Условие 1\n",
    "В первой строке дано три числа, соответствующие некоторой дате date -- год, месяц и день.\n",
    "Во второй строке дано одно число days -- число дней.\n",
    "\n",
    "Вычислите и выведите год, месяц и день даты, которая наступит, когда с момента исходной даты date пройдет число дней, равное days.\n",
    "\n",
    "Примечание:\n",
    "Для решения этой задачи используйте стандартный модуль datetime.\n",
    "Вам будут полезны класс datetime.date для хранения даты и класс datetime.timedelta﻿ для прибавления дней к дате"
   ]
  },
  {
   "cell_type": "code",
   "execution_count": null,
   "metadata": {},
   "outputs": [],
   "source": [
    "# мое решение \n",
    "import datetime\n",
    "data = [int(i) for i in input().split()]\n",
    "datad = int(input())\n",
    "delta = datetime.timedelta(datad)\n",
    "x = datetime.date(data[0], data[1], data[2]) + delta\n",
    "print(x.year, x.month, x.day)"
   ]
  },
  {
   "cell_type": "code",
   "execution_count": null,
   "metadata": {},
   "outputs": [],
   "source": [
    "# Решение автора\n",
    "import datetime\n",
    "\n",
    "y, m, d = map(int, input().split())\n",
    "days = int(input())\n",
    "\n",
    "current = datetime.date(year=y, month=m, day=d)\n",
    "current += datetime.timedelta(days=days)\n",
    "\n",
    "print(\"{} {} {}\".format(current.year, current.month, current.day))"
   ]
  },
  {
   "cell_type": "markdown",
   "metadata": {},
   "source": [
    "## ---------------------------------------------------------"
   ]
  },
  {
   "cell_type": "markdown",
   "metadata": {},
   "source": [
    "Условие 2\n",
    "https://stepik.org/lesson/24466/step/9?auth=login&thread=solutions&unit=6773"
   ]
  },
  {
   "cell_type": "code",
   "execution_count": null,
   "metadata": {},
   "outputs": [],
   "source": [
    "# Мое решение \n",
    "from simplecrypt import decrypt\n",
    "with open('/home/saygid/Загрузки/passwords.txt') as password:\n",
    "    password = password.read().split('\\n')[:-1]\n",
    "with open('/home/saygid/Загрузки/encrypted.bin', 'rb') as lock:\n",
    "    un_lock = lock.read()\n",
    "for i in password:\n",
    "    try:\n",
    "        x = decrypt(i, un_lock)\n",
    "        print(x)\n",
    "    except:\n",
    "        pass"
   ]
  },
  {
   "cell_type": "code",
   "execution_count": null,
   "metadata": {},
   "outputs": [],
   "source": [
    "# Решение автора\n",
    "import simplecrypt\n",
    "\n",
    "encrypted = open(\"encrypted.bin\", \"rb\").read()\n",
    "passwords = open(\"passwords.txt\").readlines()\n",
    "\n",
    "for p in passwords:\n",
    "    p = p.strip()\n",
    "    try:\n",
    "        s = simplecrypt.decrypt(p, encrypted)\n",
    "    except simplecrypt.DecryptionException:\n",
    "        continue\n",
    "\n",
    "    print(s.decode(\"utf-8\"))﻿"
   ]
  }
 ],
 "metadata": {
  "kernelspec": {
   "display_name": "Python 3.8.5 64-bit",
   "language": "python",
   "name": "python38564bitaf0bb5075d664e98af35ce1e7d7bf570"
  },
  "language_info": {
   "codemirror_mode": {
    "name": "ipython",
    "version": 3
   },
   "file_extension": ".py",
   "mimetype": "text/x-python",
   "name": "python",
   "nbconvert_exporter": "python",
   "pygments_lexer": "ipython3",
   "version": "3.8.5"
  }
 },
 "nbformat": 4,
 "nbformat_minor": 4
}
