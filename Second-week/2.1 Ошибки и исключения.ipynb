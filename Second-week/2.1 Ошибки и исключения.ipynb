{
 "cells": [
  {
   "cell_type": "markdown",
   "metadata": {},
   "source": [
    "# Неделя 2: Стандартные средства языка Python"
   ]
  },
  {
   "cell_type": "markdown",
   "metadata": {},
   "source": [
    "## 2.1 Ошибки и исключения"
   ]
  },
  {
   "cell_type": "markdown",
   "metadata": {},
   "source": [
    "Все ошибки в языке python делятся на два типа:\n",
    "1)Синтаксические (syntax error) # Мы можем узнать до исполнения кода\n",
    "2)Исключения есть 3 обзательные вещи:\n",
    "    1) Ошибки являются объектами и у них есть тип\n",
    "    2)сообщение с дополнительной информацией\n",
    "    3)состояние стека вызовов в тот момент когда совершилась ошибка"
   ]
  },
  {
   "cell_type": "markdown",
   "metadata": {},
   "source": [
    "Играем в шерифов и ловим ошибки"
   ]
  },
  {
   "cell_type": "code",
   "execution_count": null,
   "metadata": {},
   "outputs": [],
   "source": [
    "try:\n",
    "    #код который мы хотим проверить\n",
    "except TypeError: #указываем тип исключения\n",
    "    #что делать в том случае если ошибка TypeError возникла в Try\n",
    "# если возникнет другая ошибка(не TypeError) программа будем ввести так же буд-то Tryблока и не было  "
   ]
  },
  {
   "cell_type": "code",
   "execution_count": 1,
   "metadata": {},
   "outputs": [
    {
     "name": "stdout",
     "output_type": "stream",
     "text": [
      "Zero division :(\n",
      "None\n"
     ]
    }
   ],
   "source": [
    "def f(x, y):\n",
    "    try:\n",
    "        return x/y\n",
    "    except TypeError:\n",
    "        print('Type error')\n",
    "    except ZeroDivisionError:\n",
    "        print('Zero division :(')\n",
    "print(f(5, 0))"
   ]
  },
  {
   "cell_type": "code",
   "execution_count": 3,
   "metadata": {},
   "outputs": [
    {
     "name": "stdout",
     "output_type": "stream",
     "text": [
      "Error\n",
      "None\n",
      "Error\n",
      "None\n"
     ]
    }
   ],
   "source": [
    "def f(x, y):\n",
    "    try:\n",
    "        return x/y\n",
    "    except (TypeError, ZeroDivisionError):\n",
    "        print('Error')\n",
    "print(f(5, 0))\n",
    "print(f(5, []))"
   ]
  },
  {
   "cell_type": "code",
   "execution_count": 4,
   "metadata": {
    "scrolled": true
   },
   "outputs": [
    {
     "name": "stdout",
     "output_type": "stream",
     "text": [
      "<class 'ZeroDivisionError'>\n",
      "division by zero\n",
      "('division by zero',)\n",
      "None\n",
      "<class 'TypeError'>\n",
      "unsupported operand type(s) for /: 'int' and 'list'\n",
      "(\"unsupported operand type(s) for /: 'int' and 'list'\",)\n",
      "None\n"
     ]
    }
   ],
   "source": [
    "def f(x, y):\n",
    "    try:\n",
    "        return x/y\n",
    "    except (TypeError, ZeroDivisionError) as e:# в e находится объект нашей ошибки\n",
    "        print(type(e)) #тип ошибки\n",
    "        print(e)\n",
    "        print(e.args) # e у любой ошибки есть атрибут args\n",
    "print(f(5, 0))\n",
    "print(f(5, []))"
   ]
  },
  {
   "cell_type": "code",
   "execution_count": null,
   "metadata": {},
   "outputs": [],
   "source": [
    "def f(x, y):\n",
    "    try:\n",
    "        return x/y\n",
    "    except:  # ловит все ошибки в \n",
    "        print('Error')\n",
    "print(f(5, 0))\n",
    "print(f(5, []))"
   ]
  },
  {
   "cell_type": "code",
   "execution_count": null,
   "metadata": {},
   "outputs": [],
   "source": [
    "try:\n",
    "    15/0\n",
    "    # гинерируется объект исключения допустим e \n",
    "except ZeroDivisionError: # что делает except? Он на самом деле проверяет isinstance(e, ZeroDivisionError)\n",
    "    print('Error')                  "
   ]
  },
  {
   "cell_type": "markdown",
   "metadata": {},
   "source": [
    "отличия type() от isinstance() https://pythoner.name/isinstance-type"
   ]
  },
  {
   "cell_type": "code",
   "execution_count": 5,
   "metadata": {
    "scrolled": true
   },
   "outputs": [
    {
     "name": "stdout",
     "output_type": "stream",
     "text": [
      "[<class 'ZeroDivisionError'>, <class 'ArithmeticError'>, <class 'Exception'>, <class 'BaseException'>, <class 'object'>]\n"
     ]
    }
   ],
   "source": [
    "#Все ошибки представляют ссобой иерархию например: ZeroDivisionError наследуется от ArithmeticError\n",
    "# B python ошибки не используют множественной наследование\n",
    "print(ZeroDivisionError.mro())"
   ]
  },
  {
   "cell_type": "code",
   "execution_count": null,
   "metadata": {},
   "outputs": [],
   "source": [
    "try:\n",
    "    15/0\n",
    "except ArithmeticError: #isinstance(e,  ArithmeticError)\n",
    "    print('Arithmetic error')\n",
    "except ZeroDivisionError: #бессмысленная проверка так, как это исключения было уже \n",
    "    print('Zero division')                                                 #обработано except ArithmeticError:"
   ]
  },
  {
   "cell_type": "markdown",
   "metadata": {},
   "source": [
    "## else и finally"
   ]
  },
  {
   "cell_type": "code",
   "execution_count": 6,
   "metadata": {
    "scrolled": true
   },
   "outputs": [
    {
     "name": "stdout",
     "output_type": "stream",
     "text": [
      "result is 2.0\n",
      "finally\n",
      "Zero division\n",
      "finally\n",
      "finally\n"
     ]
    },
    {
     "ename": "TypeError",
     "evalue": "unsupported operand type(s) for /: 'int' and 'list'",
     "output_type": "error",
     "traceback": [
      "\u001b[0;31m---------------------------------------------------------------------------\u001b[0m",
      "\u001b[0;31mTypeError\u001b[0m                                 Traceback (most recent call last)",
      "\u001b[0;32m<ipython-input-6-cbc01d7fe23b>\u001b[0m in \u001b[0;36m<module>\u001b[0;34m\u001b[0m\n\u001b[1;32m     10\u001b[0m \u001b[0mdivine\u001b[0m\u001b[0;34m(\u001b[0m\u001b[0;36m2\u001b[0m\u001b[0;34m,\u001b[0m \u001b[0;36m1\u001b[0m\u001b[0;34m)\u001b[0m\u001b[0;34m\u001b[0m\u001b[0;34m\u001b[0m\u001b[0m\n\u001b[1;32m     11\u001b[0m \u001b[0mdivine\u001b[0m\u001b[0;34m(\u001b[0m\u001b[0;36m2\u001b[0m\u001b[0;34m,\u001b[0m \u001b[0;36m0\u001b[0m\u001b[0;34m)\u001b[0m\u001b[0;34m\u001b[0m\u001b[0;34m\u001b[0m\u001b[0m\n\u001b[0;32m---> 12\u001b[0;31m \u001b[0mdivine\u001b[0m\u001b[0;34m(\u001b[0m\u001b[0;36m2\u001b[0m\u001b[0;34m,\u001b[0m \u001b[0;34m[\u001b[0m\u001b[0;34m]\u001b[0m\u001b[0;34m)\u001b[0m\u001b[0;34m\u001b[0m\u001b[0;34m\u001b[0m\u001b[0m\n\u001b[0m",
      "\u001b[0;32m<ipython-input-6-cbc01d7fe23b>\u001b[0m in \u001b[0;36mdivine\u001b[0;34m(x, y)\u001b[0m\n\u001b[1;32m      1\u001b[0m \u001b[0;32mdef\u001b[0m \u001b[0mdivine\u001b[0m\u001b[0;34m(\u001b[0m\u001b[0mx\u001b[0m\u001b[0;34m,\u001b[0m \u001b[0my\u001b[0m\u001b[0;34m)\u001b[0m\u001b[0;34m:\u001b[0m\u001b[0;34m\u001b[0m\u001b[0;34m\u001b[0m\u001b[0m\n\u001b[1;32m      2\u001b[0m     \u001b[0;32mtry\u001b[0m\u001b[0;34m:\u001b[0m\u001b[0;34m\u001b[0m\u001b[0;34m\u001b[0m\u001b[0m\n\u001b[0;32m----> 3\u001b[0;31m         \u001b[0mresult\u001b[0m \u001b[0;34m=\u001b[0m \u001b[0mx\u001b[0m\u001b[0;34m/\u001b[0m\u001b[0my\u001b[0m\u001b[0;34m\u001b[0m\u001b[0;34m\u001b[0m\u001b[0m\n\u001b[0m\u001b[1;32m      4\u001b[0m     \u001b[0;32mexcept\u001b[0m \u001b[0mZeroDivisionError\u001b[0m\u001b[0;34m:\u001b[0m\u001b[0;34m\u001b[0m\u001b[0;34m\u001b[0m\u001b[0m\n\u001b[1;32m      5\u001b[0m         \u001b[0mprint\u001b[0m\u001b[0;34m(\u001b[0m\u001b[0;34m'Zero division'\u001b[0m\u001b[0;34m)\u001b[0m\u001b[0;34m\u001b[0m\u001b[0;34m\u001b[0m\u001b[0m\n",
      "\u001b[0;31mTypeError\u001b[0m: unsupported operand type(s) for /: 'int' and 'list'"
     ]
    }
   ],
   "source": [
    "def divine(x, y):\n",
    "    try:\n",
    "        result = x/y\n",
    "    except ZeroDivisionError:\n",
    "        print('Zero division')\n",
    "    else:\n",
    "        print('result is', result) # если нет искоючения \n",
    "    finally:             # работает в любом случаи\n",
    "        print('finally')\n",
    "divine(2, 1)\n",
    "divine(2, 0)\n",
    "divine(2, [])"
   ]
  },
  {
   "cell_type": "markdown",
   "metadata": {},
   "source": [
    "## Интересные примеры"
   ]
  },
  {
   "cell_type": "markdown",
   "metadata": {},
   "source": [
    "А как будет выглядеть список, если исключение прервёт сортировку?...\n",
    "Оказалось, что sort() успеет-таки частично изменить список :)"
   ]
  },
  {
   "cell_type": "code",
   "execution_count": 8,
   "metadata": {},
   "outputs": [
    {
     "name": "stdout",
     "output_type": "stream",
     "text": [
      "ошибка типа: несравниваемые типы: str() < int()\n",
      "[1, 2, 3, 'строка', 0]\n"
     ]
    }
   ],
   "source": [
    "try:\n",
    "    x = [3, 1, 2, 'строка', 0]\n",
    "    x.sort()\n",
    "except TypeError:\n",
    "    print(\"ошибка типа: несравниваемые типы: str() < int()\")\n",
    "print(x)"
   ]
  },
  {
   "cell_type": "markdown",
   "metadata": {},
   "source": [
    "## ---------------------------------"
   ]
  },
  {
   "cell_type": "markdown",
   "metadata": {},
   "source": [
    "Отсутствие исключения в ветке `except` усложняет не только отладку, но и чтение кода --- читающему придётся выводить из контекста возможные исключения. \n",
    "\n",
    "Кроме того, пустая ветка `except` перехватывает специальные исключения, наследующиеся от класса `BaseException`, например `SystemExit` или `KeyboardInterrupt` (происходит при нажатии Ctrl+C)."
   ]
  },
  {
   "cell_type": "code",
   "execution_count": 9,
   "metadata": {},
   "outputs": [
    {
     "name": "stdout",
     "output_type": "stream",
     "text": [
      "Нет пути!\n"
     ]
    }
   ],
   "source": [
    "import sys\n",
    "try:\n",
    "    sys.exit(\"Пора бы уже выйти из программы\")\n",
    "except:\n",
    "    print(\"Нет пути!\")"
   ]
  },
  {
   "cell_type": "markdown",
   "metadata": {},
   "source": [
    "Поэтому для того чтобы обработать \"любое\" исключение пишут `except Exception` а не просто `except`."
   ]
  },
  {
   "cell_type": "markdown",
   "metadata": {},
   "source": [
    "## Задачки"
   ]
  },
  {
   "cell_type": "markdown",
   "metadata": {},
   "source": [
    "Условие 1.Вашей программе будет доступна функция foo, которая может бросать исключения.\n",
    "\n",
    "Вам необходимо написать код, который запускает эту функцию, затем ловит исключения ArithmeticError, AssertionError, ZeroDivisionError и выводит имя пойманного исключения."
   ]
  },
  {
   "cell_type": "code",
   "execution_count": null,
   "metadata": {},
   "outputs": [],
   "source": [
    "#мое решение\n",
    "try:\n",
    "    foo()\n",
    "except ZeroDivisionError:\n",
    "    print(\"ZeroDivisionError\")\n",
    "except ArithmeticError:\n",
    "    print(\"ArithmeticError\")\n",
    "except AssertionError:\n",
    "    print('AssertionError')"
   ]
  },
  {
   "cell_type": "code",
   "execution_count": null,
   "metadata": {},
   "outputs": [],
   "source": [
    "#решение из коментариев(сам еще не понял)\n",
    "errors = (ZeroDivisionError, ArithmeticError, AssertionError)\n",
    "try:\n",
    "    foo()\n",
    "except errors as e:    \n",
    "    print(e.__class__.mro()[ e.__class__ not in errors ].__name__)"
   ]
  },
  {
   "cell_type": "markdown",
   "metadata": {},
   "source": [
    "## ----------------------------------------------------------------"
   ]
  },
  {
   "cell_type": "code",
   "execution_count": null,
   "metadata": {},
   "outputs": [],
   "source": []
  }
 ],
 "metadata": {
  "kernelspec": {
   "display_name": "Python 3.8.5 64-bit",
   "language": "python",
   "name": "python38564bitaf0bb5075d664e98af35ce1e7d7bf570"
  },
  "language_info": {
   "codemirror_mode": {
    "name": "ipython",
    "version": 3
   },
   "file_extension": ".py",
   "mimetype": "text/x-python",
   "name": "python",
   "nbconvert_exporter": "python",
   "pygments_lexer": "ipython3",
   "version": "3.8.5"
  }
 },
 "nbformat": 4,
 "nbformat_minor": 4
}
