{
 "cells": [
  {
   "cell_type": "markdown",
   "metadata": {},
   "source": [
    "# 2.4 Работа с файловой системой и файлами"
   ]
  },
  {
   "cell_type": "markdown",
   "metadata": {},
   "source": [
    "Мы расматриваем два типа файлов\n",
    "1) Текствовые (содержимое таких файлов является текст и может быть интерпретирован в качестве текста\n",
    "    \n",
    "        Примеры: Код программ, формат .txt, hnml страницы\n",
    "    \n",
    "2) Бинарные или двоичные(их мы не можем интерпретировать в качестве текста)\n",
    "\n",
    "        Примеры: mp3, картинки, гифки  "
   ]
  },
  {
   "cell_type": "markdown",
   "metadata": {},
   "source": [
    "### Открытие файла на чтение"
   ]
  },
  {
   "cell_type": "markdown",
   "metadata": {},
   "source": [
    "f = open('name_file', 'key_file')"
   ]
  },
  {
   "cell_type": "code",
   "execution_count": 2,
   "metadata": {},
   "outputs": [
    {
     "name": "stdout",
     "output_type": "stream",
     "text": [
      "<class '_io.TextIOWrapper'>\n"
     ]
    }
   ],
   "source": [
    "# r (read) - открыть для чтения, по умолчанию\n",
    "# w (write) - открыть для записи, содержимое файла стирается\n",
    "# a (append) - открыть для записи, запись введется в конец\n",
    "# b (binary) - открыть в бинарном режими\n",
    "# t (text) - открыть в текстовом режими, по умолчанию\n",
    "# r+ - открыть для чтения и записи\n",
    "# w+ - открыть для записи и чтения, содержимое стирается\n",
    "\n",
    "f = open('test.txt', 'r')\n",
    "print(type(f))\n",
    "f.close()"
   ]
  },
  {
   "cell_type": "markdown",
   "metadata": {},
   "source": [
    "Функция open() возвращает нам fileObject, благодаря ему мы можем читать файлы, записывать данные. \n",
    "Самое главное fileObject нужно закрывать"
   ]
  },
  {
   "cell_type": "markdown",
   "metadata": {},
   "source": [
    "### .read()"
   ]
  },
  {
   "cell_type": "code",
   "execution_count": 4,
   "metadata": {},
   "outputs": [
    {
     "name": "stdout",
     "output_type": "stream",
     "text": [
      "First\n",
      " line\n",
      "Second line\n",
      "Third line\n"
     ]
    }
   ],
   "source": [
    "f = open('test.txt')\n",
    "x = f.read(5)              #.read(число символов)\n",
    "print(x)\n",
    "y = f.read()              # read() считать весь фацйл до конца\n",
    "print(y)\n",
    "f.close()"
   ]
  },
  {
   "cell_type": "code",
   "execution_count": 6,
   "metadata": {
    "scrolled": true
   },
   "outputs": [
    {
     "name": "stdout",
     "output_type": "stream",
     "text": [
      "First line\n",
      "Second line\n",
      "Third line\n"
     ]
    }
   ],
   "source": [
    "f = open('test.txt')\n",
    "x = f.read()       #символ переноса строки(\\n) также явдяется символом        \n",
    "print(x)           \n",
    "f.close()    "
   ]
  },
  {
   "cell_type": "markdown",
   "metadata": {},
   "source": [
    "### repr()"
   ]
  },
  {
   "cell_type": "code",
   "execution_count": 7,
   "metadata": {
    "scrolled": true
   },
   "outputs": [
    {
     "name": "stdout",
     "output_type": "stream",
     "text": [
      "'First line\\nSecond line\\nThird line'\n"
     ]
    }
   ],
   "source": [
    "f = open('test.txt')\n",
    "x = f.read()       #символ переноса строки(\\n) также явдяется символом        \n",
    "print(repr(x))           # repr() - предствления в виде строки\n",
    "f.close()   "
   ]
  },
  {
   "cell_type": "markdown",
   "metadata": {},
   "source": [
    "### .splitlines()"
   ]
  },
  {
   "cell_type": "code",
   "execution_count": 9,
   "metadata": {
    "scrolled": true
   },
   "outputs": [
    {
     "name": "stdout",
     "output_type": "stream",
     "text": [
      "['First line', 'Second line', 'Third line']\n"
     ]
    }
   ],
   "source": [
    "f = open('test.txt')\n",
    "x = f.read().splitlines()     # splitlines - делит текст поп строкам\n",
    "print(x)           \n",
    "f.close()   "
   ]
  },
  {
   "cell_type": "markdown",
   "metadata": {},
   "source": [
    "### .readline()    .rstrip()"
   ]
  },
  {
   "cell_type": "code",
   "execution_count": 12,
   "metadata": {
    "scrolled": true
   },
   "outputs": [
    {
     "name": "stdout",
     "output_type": "stream",
     "text": [
      "'First line'\n"
     ]
    }
   ],
   "source": [
    "f = open('test.txt')\n",
    "x = f.readline().rstrip()      #readline()- считывать файл по строчно      \n",
    "print(repr(x))                 # rstrip() - убирает справа все управляющие символы\n",
    "f.close()   "
   ]
  },
  {
   "cell_type": "markdown",
   "metadata": {},
   "source": [
    "### У fileobjecta есть итератор"
   ]
  },
  {
   "cell_type": "code",
   "execution_count": 21,
   "metadata": {
    "scrolled": true
   },
   "outputs": [
    {
     "name": "stdout",
     "output_type": "stream",
     "text": [
      "'First line\\n'\n",
      "'Second line\\n'\n",
      "'Third line'\n",
      "''\n",
      "''\n"
     ]
    }
   ],
   "source": [
    "f = open('test.txt')\n",
    "for x in f:                 # итерируется до следующего переноса строки\n",
    "    print(repr(x)) \n",
    "x = f.readline()             #Когда в файле больше не осталось не считанной информации, то метод read() \n",
    "print(repr(x))                                           #всегда возвращяет пустую строку \n",
    "x = f.read()\n",
    "print(repr(x))\n",
    "f.close()   "
   ]
  },
  {
   "cell_type": "markdown",
   "metadata": {},
   "source": [
    "### Примечание"
   ]
  },
  {
   "cell_type": "markdown",
   "metadata": {},
   "source": [
    "В книге Лутц пишет, что можно использовать открытие файла так:\n",
    "\n",
    "__for line in open('data.txt'):__\n",
    "\n",
    "   __print(line, end='')__\n",
    "    \n",
    "И закрывать не обязательно, так как файл открывается в инструкции цикла, как временный и закрывается автоматически сборщиком мусора.\n",
    "\n",
    "При этом он пишет, что такой вызов в данный момент является наиболее предпочтительным."
   ]
  },
  {
   "cell_type": "markdown",
   "metadata": {},
   "source": [
    "### Записываем в файлы  .write()"
   ]
  },
  {
   "cell_type": "code",
   "execution_count": 44,
   "metadata": {
    "scrolled": true
   },
   "outputs": [],
   "source": [
    "f = open('test1.txt', 'w') #когда мы открываем файл на записб, а его нет, то он создастся\n",
    "f.write(\"Hello\\n\")\n",
    "f.write(\"wolrd\") # допишется к слову Hello\n",
    "f.close()"
   ]
  },
  {
   "cell_type": "markdown",
   "metadata": {},
   "source": [
    "### ''.join()"
   ]
  },
  {
   "cell_type": "code",
   "execution_count": 43,
   "metadata": {},
   "outputs": [],
   "source": [
    "f = open('test1.txt', 'w')\n",
    "line = ['line1', 'line2', 'line3']\n",
    "text = '\\n'.join(line)      # ''.join() --- в начале указываем символ который будет между элементами, потом\n",
    "f.write(text)                                                                     # сам спискок\n",
    "f.close()"
   ]
  },
  {
   "cell_type": "markdown",
   "metadata": {},
   "source": [
    "### Дописываем в конец файла"
   ]
  },
  {
   "cell_type": "code",
   "execution_count": 49,
   "metadata": {},
   "outputs": [],
   "source": [
    "f = open('test_apped.txt', 'a')   # так же как и \"w\", но дописывает если файл уже сущестует\n",
    "f.write(\"Hello\\n\")            # при k каличесвте запусков, напишет k строк Hello\n",
    "f.close()"
   ]
  },
  {
   "cell_type": "markdown",
   "metadata": {},
   "source": [
    "## Не забываем закрывать файлы"
   ]
  },
  {
   "cell_type": "markdown",
   "metadata": {},
   "source": [
    "### Чтобы не писать метод .close()   можно использовать конрукцию with open()"
   ]
  },
  {
   "cell_type": "code",
   "execution_count": 52,
   "metadata": {
    "scrolled": true
   },
   "outputs": [
    {
     "name": "stdout",
     "output_type": "stream",
     "text": [
      "'First line'\n",
      "'Second line'\n",
      "'Third line'\n"
     ]
    }
   ],
   "source": [
    "with open('test.txt') as f: #файл закроется после выхода из блока with \n",
    "    for line in f:\n",
    "        line = line.strip()\n",
    "        print(repr(line))"
   ]
  },
  {
   "cell_type": "code",
   "execution_count": 53,
   "metadata": {},
   "outputs": [],
   "source": [
    "with open('test.txt') as f, open('test_apped.txt', 'w') as w:    #открываем сразу несколько файлов\n",
    "    for line in f:\n",
    "        w.write(line)"
   ]
  },
  {
   "cell_type": "markdown",
   "metadata": {},
   "source": [
    "## Больше про конструкцию with ... as\n",
    "https://pythonworld.ru/osnovy/with-as-menedzhery-konteksta.html"
   ]
  },
  {
   "cell_type": "markdown",
   "metadata": {},
   "source": [
    "# Работа с файловой системой"
   ]
  },
  {
   "cell_type": "markdown",
   "metadata": {},
   "source": [
    "### os.listdir()"
   ]
  },
  {
   "cell_type": "code",
   "execution_count": 55,
   "metadata": {
    "scrolled": true
   },
   "outputs": [
    {
     "name": "stdout",
     "output_type": "stream",
     "text": [
      "['2.2 Работа с кодом - модули и импорт.ipynb', '2.1 Ошибки и исключения.ipynb', 'Без названия.ipynb', '2.4 Работа с файловой системой и файлами.ipynb', 'test1.txt', '.ipynb_checkpoints', '2.3 Итераторы и генераторы.ipynb', 'test_apped.txt', 'test.txt']\n"
     ]
    }
   ],
   "source": [
    "import os\n",
    "import os.path\n",
    "                                #перечисляем файлы и папки в какойто папке\n",
    "print(os.listdir())    # если без аргументов то в текущей директории"
   ]
  },
  {
   "cell_type": "markdown",
   "metadata": {},
   "source": [
    "### os.gecwd()"
   ]
  },
  {
   "cell_type": "code",
   "execution_count": 56,
   "metadata": {
    "scrolled": true
   },
   "outputs": [
    {
     "name": "stdout",
     "output_type": "stream",
     "text": [
      "/home/saygid/notebook/Python: basics and applications/Second-week\n"
     ]
    }
   ],
   "source": [
    "print(os.getcwd())  # текущая директория"
   ]
  },
  {
   "cell_type": "markdown",
   "metadata": {},
   "source": [
    "### os.path.exists()"
   ]
  },
  {
   "cell_type": "code",
   "execution_count": 58,
   "metadata": {
    "scrolled": true
   },
   "outputs": [
    {
     "name": "stdout",
     "output_type": "stream",
     "text": [
      "True\n",
      "False\n"
     ]
    }
   ],
   "source": [
    "print(os.path.exists('test.txt'))   #проверят наличия файла  # также проверят и директории\n",
    "print(os.path.exists('test2.txt'))    "
   ]
  },
  {
   "cell_type": "markdown",
   "metadata": {},
   "source": [
    "### os.path.isfile()   - является ли файлом\n",
    "### os.path.isdir()  - явдяется ли папкой"
   ]
  },
  {
   "cell_type": "markdown",
   "metadata": {},
   "source": [
    "### os.path.abspath()"
   ]
  },
  {
   "cell_type": "code",
   "execution_count": 59,
   "metadata": {
    "scrolled": true
   },
   "outputs": [
    {
     "name": "stdout",
     "output_type": "stream",
     "text": [
      "/home/saygid/notebook/Python: basics and applications/Second-week/test.txt\n"
     ]
    }
   ],
   "source": [
    "print(os.path.abspath('test.txt'))        # показывается обсолютный путь"
   ]
  },
  {
   "cell_type": "markdown",
   "metadata": {},
   "source": [
    "### os.chdir()"
   ]
  },
  {
   "cell_type": "code",
   "execution_count": 76,
   "metadata": {
    "scrolled": true
   },
   "outputs": [
    {
     "name": "stdout",
     "output_type": "stream",
     "text": [
      "/home/saygid/notebook/Python: basics and applications/Second-week\n",
      "/home/saygid/notebook/Python: basics and applications/Second-week/Dir\n"
     ]
    }
   ],
   "source": [
    "print(os.getcwd())\n",
    "os.chdir('Dir')       #меняем текущую директорию\n",
    "print(os.getcwd())"
   ]
  },
  {
   "cell_type": "markdown",
   "metadata": {},
   "source": [
    "## os.walk()   - возвращает кортеж из 3 элементов \n",
    "### 1 строковое представления директория которую осматривает\n",
    "### 2 список всех подпапок\n",
    "### 3 список всех файлов "
   ]
  },
  {
   "cell_type": "code",
   "execution_count": 77,
   "metadata": {
    "scrolled": true
   },
   "outputs": [
    {
     "name": "stdout",
     "output_type": "stream",
     "text": [
      ". ['.ipynb_checkpoints'] ['12345.txt']\n",
      "./.ipynb_checkpoints [] []\n"
     ]
    }
   ],
   "source": [
    "for a, b, c in os.walk('.'):\n",
    "    print(a, b, c)"
   ]
  },
  {
   "cell_type": "markdown",
   "metadata": {},
   "source": [
    "### копирование файлов "
   ]
  },
  {
   "cell_type": "code",
   "execution_count": 81,
   "metadata": {
    "scrolled": false
   },
   "outputs": [
    {
     "data": {
      "text/plain": [
       "'dir2'"
      ]
     },
     "execution_count": 81,
     "metadata": {},
     "output_type": "execute_result"
    }
   ],
   "source": [
    "import shutil\n",
    "shutil.copy('test.txt', 'test12.txt') #копирует файл test.txt в test12.txt\n",
    "shutil.copytree('Dir', \"dir2\")   # копирует папку"
   ]
  },
  {
   "cell_type": "markdown",
   "metadata": {},
   "source": [
    "## Если возникает вопрос по файловой системе, ответ можно найти в библиотеках\n",
    "## os\n",
    "## os.path\n",
    "## shutil"
   ]
  },
  {
   "cell_type": "markdown",
   "metadata": {},
   "source": [
    "# -----------------------------------------------------------------"
   ]
  },
  {
   "cell_type": "markdown",
   "metadata": {},
   "source": [
    "# Задачи"
   ]
  },
  {
   "cell_type": "markdown",
   "metadata": {},
   "source": [
    "Условие 1\n",
    "Вам дается текстовый файл, содержащий некоторое количество непустых строк.\n",
    "На основе него сгенерируйте новый текстовый файл, содержащий те же строки в обратном порядке."
   ]
  },
  {
   "cell_type": "code",
   "execution_count": null,
   "metadata": {},
   "outputs": [],
   "source": [
    "# Мое решение\n",
    "with open('/home/saygid/Загрузки/dataset_24465_4.txt') as r, open('12345.txt', 'w') as w :\n",
    "    w.write('\\n'.join([i.strip() for i in r][::-1]))"
   ]
  },
  {
   "cell_type": "code",
   "execution_count": null,
   "metadata": {},
   "outputs": [],
   "source": [
    "# Решение автора\n",
    "lines = open(\"input.txt\").readlines()\n",
    "with open(\"output.txt\", \"w\") as out:\n",
    "    out.writelines(reversed(lines))"
   ]
  },
  {
   "cell_type": "markdown",
   "metadata": {},
   "source": [
    "Условие 2  https://stepik.org/lesson/24465/step/6?thread=solutions&unit=6772\n",
    "Вам дана в архиве (ссылка) файловая структура, состоящая из директорий и файлов.\n",
    "\n",
    "Вам необходимо распаковать этот архив, и затем найти в данной в файловой структуре все директории, в которых есть хотя бы один файл с расширением \".py\". \n",
    "\n",
    "Ответом на данную задачу будет являться файл со списком таких директорий, отсортированных в лексикографическом порядке."
   ]
  },
  {
   "cell_type": "code",
   "execution_count": null,
   "metadata": {},
   "outputs": [],
   "source": [
    "#Мое решение\n",
    "import os\n",
    "\n",
    "my_dir = set()\n",
    "\n",
    "for this, dirm, files in os.walk('/home/saygid/Загрузки/main'):\n",
    "    for i in files:\n",
    "        if i[-1:-3:-1] == 'yp':\n",
    "            my_dir.add('/'.join(this.split('/')[4:]))\n",
    "\n",
    "my_dir = sorted(list(my_dir))\n",
    "\n",
    "with open('12345.txt', 'w') as w:\n",
    "    for i in my_dir:\n",
    "        w.write(i + '\\n')"
   ]
  },
  {
   "cell_type": "code",
   "execution_count": null,
   "metadata": {},
   "outputs": [],
   "source": [
    "# Решение автора\n",
    "import os\n",
    "\n",
    "for cur_dir, subdirs, files in os.walk(\"main\"):\n",
    "    for file in files:\n",
    "        if file.endswith(\".py\"):\n",
    "            print(cur_dir)\n",
    "            break"
   ]
  },
  {
   "cell_type": "code",
   "execution_count": null,
   "metadata": {},
   "outputs": [],
   "source": [
    "# Интересное решение\n",
    "import os\n",
    "\n",
    "result = [cur_dir for cur_dir, dirs, files in os.walk(\"main\") if any((fl.endswith(\".py\")\n",
    "    for fl in files))]\n",
    "\n",
    "with open(\"py_dirs.txt\", \"w\") as w:\n",
    "    w.write(\"\\n\".join(sorted(result)))"
   ]
  }
 ],
 "metadata": {
  "kernelspec": {
   "display_name": "Python 3.8.5 64-bit",
   "language": "python",
   "name": "python38564bitaf0bb5075d664e98af35ce1e7d7bf570"
  },
  "language_info": {
   "codemirror_mode": {
    "name": "ipython",
    "version": 3
   },
   "file_extension": ".py",
   "mimetype": "text/x-python",
   "name": "python",
   "nbconvert_exporter": "python",
   "pygments_lexer": "ipython3",
   "version": "3.8.5"
  }
 },
 "nbformat": 4,
 "nbformat_minor": 4
}
