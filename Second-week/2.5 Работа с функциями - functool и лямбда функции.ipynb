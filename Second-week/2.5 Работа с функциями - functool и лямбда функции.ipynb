{
 "cells": [
  {
   "cell_type": "markdown",
   "metadata": {},
   "source": [
    "# 2.5 Работа с функциями: functool и лямбда функции"
   ]
  },
  {
   "cell_type": "markdown",
   "metadata": {},
   "source": [
    "### map()"
   ]
  },
  {
   "cell_type": "code",
   "execution_count": 1,
   "metadata": {
    "scrolled": false
   },
   "outputs": [
    {
     "name": "stdout",
     "output_type": "stream",
     "text": [
      "100 500\n",
      "600\n"
     ]
    }
   ],
   "source": [
    "n, k = map(int, input().split())  # map(f, [a, b, c, d, ..]) -> f(a), f(b), f(c), f(d), ...\n",
    "print(n+k)                          #map - итератор"
   ]
  },
  {
   "cell_type": "code",
   "execution_count": null,
   "metadata": {},
   "outputs": [],
   "source": [
    "map(int, x)  ==  (int(i) for i in x)"
   ]
  },
  {
   "cell_type": "markdown",
   "metadata": {},
   "source": [
    "### filter()"
   ]
  },
  {
   "cell_type": "code",
   "execution_count": 3,
   "metadata": {
    "scrolled": true
   },
   "outputs": [
    {
     "name": "stdout",
     "output_type": "stream",
     "text": [
      "1 2 3 4 5 6 7 8 9 10 11 12\n",
      "2\n",
      "4\n",
      "6\n",
      "8\n",
      "10\n",
      "12\n"
     ]
    }
   ],
   "source": [
    "x = list(map(int, input().split()))\n",
    "\n",
    "def even(x):\n",
    "    return x%2==0\n",
    "\n",
    "evens = filter(even, x)           # filter - итертор и внутри него реализован метод __next__\n",
    "for i in evens:\n",
    "    print(i)\n"
   ]
  },
  {
   "cell_type": "markdown",
   "metadata": {},
   "source": [
    "### Хмм....\n",
    "xs = [1, 2, 3, 4]\n",
    "\n",
    "Если filter обернуть в list:\n",
    "\n",
    "evens = list(filter(even, xs))\n",
    "\n",
    "print(evens)\n",
    "\n",
    "print(evens)\n",
    "\n",
    "На выходе получим то, что ожидаем:\n",
    "[2, 4]\n",
    "[2, 4]\n",
    "\n",
    "Но:\n",
    "\n",
    "evens = filter(even, xs)\n",
    "\n",
    "print(list(evens))\n",
    "\n",
    "print(list(evens))\n",
    "\n",
    " Поведение будет неожиданным:\n",
    "[2, 4]\n",
    "[]\n",
    "\n",
    "Почему? )\n",
    "\n",
    "Догнал ))) спустя 5 минут"
   ]
  },
  {
   "cell_type": "markdown",
   "metadata": {},
   "source": [
    " ### lambda - функции"
   ]
  },
  {
   "cell_type": "code",
   "execution_count": 8,
   "metadata": {
    "scrolled": true
   },
   "outputs": [
    {
     "name": "stdout",
     "output_type": "stream",
     "text": [
      "[2, 4, 6, 8, 10]\n",
      "\n",
      "[2, 4, 6, 8, 10]\n",
      "\n",
      "[2, 4, 6, 8, 10]\n",
      "\n"
     ]
    }
   ],
   "source": [
    "x = [1, 2, 3, 4, 5, 6, 7, 8, 10]\n",
    "\n",
    "def even(x):\n",
    "    return x%2==0\n",
    "\n",
    "evens = list(filter(even, x))            #1\n",
    "print(evens)\n",
    "print()\n",
    "\n",
    "even = lambda x: x%2==0          \n",
    "evens = list(filter(even, x))     #2  #lambda <аргументы>: <что выводится>  это запись идентична функции even\n",
    "print(evens)\n",
    "print()\n",
    "    \n",
    "evens = list(filter(lambda x: x%2==0, x)) #3  #lambda функции использовать сразу\n",
    "print(evens)\n",
    "print()"
   ]
  },
  {
   "cell_type": "markdown",
   "metadata": {},
   "source": [
    "### sort()"
   ]
  },
  {
   "cell_type": "code",
   "execution_count": 11,
   "metadata": {
    "scrolled": true
   },
   "outputs": [
    {
     "name": "stdout",
     "output_type": "stream",
     "text": [
      "[16, 13, 11]\n",
      "[('John', 'Backus'), ('Haskell', 'Curry'), ('Guido', 'van', 'Rossum')]\n"
     ]
    }
   ],
   "source": [
    "x = [\n",
    "    (\"Guido\", \"van\", 'Rossum'),\n",
    "    (\"Haskell\", \"Curry\"),\n",
    "    (\"John\", \"Backus\")    \n",
    "]\n",
    "\n",
    "def length(name):\n",
    "    return len(' '.join(name))\n",
    "\n",
    "name_lengths = [length(name) for name in x]\n",
    "print(name_lengths)\n",
    "\n",
    "x.sort(key=length)           #сортирует в порядке возрастания по значеним функции key\n",
    "print(x)"
   ]
  },
  {
   "cell_type": "code",
   "execution_count": 13,
   "metadata": {
    "scrolled": true
   },
   "outputs": [
    {
     "name": "stdout",
     "output_type": "stream",
     "text": [
      "[('John', 'Backus'), ('Haskell', 'Curry'), ('Guido', 'van', 'Rossum')]\n"
     ]
    }
   ],
   "source": [
    "#тоже самое но c lambd'ой \n",
    "x.sort(key=lambda name: len(' '.join(name)))\n",
    "print(x)"
   ]
  },
  {
   "cell_type": "markdown",
   "metadata": {},
   "source": [
    "## OPERATOR"
   ]
  },
  {
   "cell_type": "code",
   "execution_count": 16,
   "metadata": {},
   "outputs": [
    {
     "name": "stdout",
     "output_type": "stream",
     "text": [
      "9\n",
      "20\n",
      "False\n"
     ]
    }
   ],
   "source": [
    "import operator as op\n",
    "\n",
    "print(op.add(4, 5))       # 4 + 5\n",
    "print(op.mul(4, 5))       # 4 * 5     \n",
    "print(op.contains([1, 2, 3], 4))  # 4 in [1, 2, 3]"
   ]
  },
  {
   "cell_type": "markdown",
   "metadata": {},
   "source": [
    "### operator.itemgetter()"
   ]
  },
  {
   "cell_type": "code",
   "execution_count": 17,
   "metadata": {
    "scrolled": true
   },
   "outputs": [
    {
     "name": "stdout",
     "output_type": "stream",
     "text": [
      "2\n"
     ]
    }
   ],
   "source": [
    "import operator as op\n",
    "x = [1, 2, 3]\n",
    "f = op.itemgetter(1)  #f(x) == x[1] #создает функцию f() выодящую элемент под 1 индексом  \n",
    "print(f(x))"
   ]
  },
  {
   "cell_type": "markdown",
   "metadata": {},
   "source": [
    "### operator.attrgetter()"
   ]
  },
  {
   "cell_type": "code",
   "execution_count": 24,
   "metadata": {
    "scrolled": true
   },
   "outputs": [
    {
     "name": "stdout",
     "output_type": "stream",
     "text": [
      "<built-in method sort of list object at 0x7fe993bcc9c0>\n"
     ]
    }
   ],
   "source": [
    "import operator as op\n",
    "f = op.attrgetter(\"sort\")  # f(x) == x.sort\n",
    "print(f([]))"
   ]
  },
  {
   "cell_type": "code",
   "execution_count": 26,
   "metadata": {
    "scrolled": true
   },
   "outputs": [
    {
     "name": "stdout",
     "output_type": "stream",
     "text": [
      "[('John', 'Backus'), ('Haskell', 'Curry'), ('Guido', 'van', 'Rossum')]\n"
     ]
    }
   ],
   "source": [
    "import operator as op\n",
    "x = [\n",
    "    (\"Guido\", \"van\", 'Rossum'),\n",
    "    (\"Haskell\", \"Curry\"),\n",
    "    (\"John\", \"Backus\")    \n",
    "]\n",
    "\n",
    "x.sort(key=op.itemgetter(-1)) #сортировка по фамилии\n",
    "print(x)"
   ]
  },
  {
   "cell_type": "markdown",
   "metadata": {},
   "source": [
    "## functools"
   ]
  },
  {
   "cell_type": "code",
   "execution_count": 29,
   "metadata": {
    "scrolled": true
   },
   "outputs": [
    {
     "name": "stdout",
     "output_type": "stream",
     "text": [
      "21\n",
      "21\n"
     ]
    }
   ],
   "source": [
    "from functools import partial\n",
    "\n",
    "x = int('10101', base=2)       #base=2 - говорим что число в 2 системе и нужно его перевести\n",
    "print(x)\n",
    "int_2 = partial(int, base=2)  \n",
    "x = int_2('10101')         # теперь base=2 больше не нужно писать благодаря partial\n",
    "print(x)"
   ]
  },
  {
   "cell_type": "code",
   "execution_count": 31,
   "metadata": {},
   "outputs": [
    {
     "name": "stdout",
     "output_type": "stream",
     "text": [
      "[('Guido', 'van', 'Rossum'), ('Haskell', 'Curry'), ('John', 'Backus')]\n",
      "[('John', 'Backus'), ('Haskell', 'Curry'), ('Guido', 'van', 'Rossum')]\n"
     ]
    }
   ],
   "source": [
    "import operator as op\n",
    "from functools import partial\n",
    "x = [\n",
    "    (\"Guido\", \"van\", 'Rossum'),\n",
    "    (\"Haskell\", \"Curry\"),\n",
    "    (\"John\", \"Backus\")    \n",
    "]\n",
    "sort_by_last = partial(list.sort, key=op.itemgetter(-1))  # x.sort(key='') -> sort_by_last(x)\n",
    "print(x)\n",
    "sort_by_last(x)\n",
    "print(x)\n"
   ]
  },
  {
   "cell_type": "markdown",
   "metadata": {},
   "source": [
    "# ------------------------------------------------"
   ]
  },
  {
   "cell_type": "markdown",
   "metadata": {},
   "source": [
    "# Задача"
   ]
  },
  {
   "cell_type": "markdown",
   "metadata": {},
   "source": [
    "Условие \n",
    "Реализуйте функцию mod_checker(x, mod=0), которая будет генерировать лямбда функцию от одного аргумента y, которая будет возвращать True, если остаток от деления y на x равен mod, и False иначе."
   ]
  },
  {
   "cell_type": "code",
   "execution_count": null,
   "metadata": {},
   "outputs": [],
   "source": [
    "# мое решение\n",
    "def mod_checker(x, mod=0):\n",
    "    return lambda y: y % x == mod"
   ]
  },
  {
   "cell_type": "code",
   "execution_count": null,
   "metadata": {},
   "outputs": [],
   "source": [
    "# Решение в одну строку\n",
    "mod_checker = lambda x, mod=0: lambda y: y % x == mod"
   ]
  }
 ],
 "metadata": {
  "kernelspec": {
   "display_name": "Python 3.8.5 64-bit",
   "language": "python",
   "name": "python38564bitaf0bb5075d664e98af35ce1e7d7bf570"
  },
  "language_info": {
   "codemirror_mode": {
    "name": "ipython",
    "version": 3
   },
   "file_extension": ".py",
   "mimetype": "text/x-python",
   "name": "python",
   "nbconvert_exporter": "python",
   "pygments_lexer": "ipython3",
   "version": "3.8.5"
  }
 },
 "nbformat": 4,
 "nbformat_minor": 4
}
