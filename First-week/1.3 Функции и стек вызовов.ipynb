{
 "cells": [
  {
   "cell_type": "markdown",
   "metadata": {},
   "source": [
    "#                 Неделя 1: Базовые принципы языка python"
   ]
  },
  {
   "cell_type": "markdown",
   "metadata": {},
   "source": [
    "## 1.2 Модель данных: объекты"
   ]
  },
  {
   "cell_type": "markdown",
   "metadata": {},
   "source": [
    "##  ------"
   ]
  },
  {
   "cell_type": "markdown",
   "metadata": {},
   "source": [
    "## 1.3 Функции и стек вызовов"
   ]
  },
  {
   "cell_type": "markdown",
   "metadata": {},
   "source": [
    "Функция- это объект. Имя функции ссылается на на объект функции"
   ]
  },
  {
   "cell_type": "code",
   "execution_count": 5,
   "metadata": {},
   "outputs": [
    {
     "name": "stdout",
     "output_type": "stream",
     "text": [
      "31\n",
      "<class 'function'>\n",
      "140000188223552\n"
     ]
    }
   ],
   "source": [
    "def function_name(argument1, argument2):\n",
    "    #function body\n",
    "    return argument1 + argument2\n",
    "\n",
    "x = function_name(2, 8)\n",
    "y = function_name(x, 21)\n",
    "print(y, type(function_name), id(function_name), sep='\\n')"
   ]
  },
  {
   "cell_type": "code",
   "execution_count": 9,
   "metadata": {},
   "outputs": [
    {
     "name": "stdout",
     "output_type": "stream",
     "text": [
      "43\n",
      "6\n"
     ]
    }
   ],
   "source": [
    "def list_sum(lst):        #создает объект \n",
    "    result = 0\n",
    "    for element in lst:\n",
    "        result += element\n",
    "    return result\n",
    "\n",
    "def sum(a, b):            #создает объект\n",
    "    return a + b\n",
    "\n",
    "y = sum(14, 29)\n",
    "z = list_sum([1, 2, 3])\n",
    "print(y, z, sep='\\n')"
   ]
  },
  {
   "cell_type": "markdown",
   "metadata": {},
   "source": [
    "топ программа для наглядного примера как создаются объекты и ссылки на них: http://www.pythontutor.com/visualize.html"
   ]
  },
  {
   "cell_type": "markdown",
   "metadata": {},
   "source": [
    "используем встроенную функцию sum(iterable)\n",
    "print(sum([2, 2, 3]))\n",
    "\n",
    "переопределяем ее\n",
    "def sum(a, b):\n",
    "    return a + b\n",
    "\n",
    "в этом месте по короткому имени sum будет использована\n",
    "наша новая функция\n",
    "print(sum(3, 4))\n",
    "\n",
    "print(sum([1, 2, 3]))\n",
    "а такой вызов приведет к ошибке\n",
    "т.к. в области видимости модуля\n",
    "объект с именем sum - это функция с двумя позиционными аргументами\n",
    "\n",
    "но на самом деле встроенная функция никуда не делась, и все еще доступна\n",
    "просто придется вызывать ее по полному имени (вместе с именем модуля)\n",
    "print(__builtins__.sum([2, 2, 3]))\n",
    "\n",
    "еще можно удалить объект sum\n",
    "del sum\n",
    "\n",
    "и тогда встроенная функция снова \"вернется\"\n",
    "(будет доступна по короткому имени)\n",
    "print(sum([2, 2, 38]))\n"
   ]
  },
  {
   "cell_type": "markdown",
   "metadata": {},
   "source": [
    "Стек - это обстрактная структура данных, ее можно сравнить со стопкой(мы можем либо положить элемент сверху,\n",
    "                                                                     либо убрать вверхний элемент)\n",
    "push - когда что-то кладем в стек,  pop - когда убираем\n",
    "Стек вызовов хранит в себе функции(самая нижняя функции всегда module)\n",
    "Все функции внтури стека вызовов исполняются, но одна из них исполнятеся реально(которая лежит нав ерхушке стека),\n",
    "а остальные функцииждут соседа сверху пока он исполнится"
   ]
  },
  {
   "cell_type": "code",
   "execution_count": 10,
   "metadata": {},
   "outputs": [
    {
     "name": "stdout",
     "output_type": "stream",
     "text": [
      "[1, 2, 3, 4, 5]\n"
     ]
    }
   ],
   "source": [
    "x = [1, 2, 3]\n",
    "x.append(4)\n",
    "x.append(5)\n",
    "print(x)"
   ]
  },
  {
   "cell_type": "code",
   "execution_count": 11,
   "metadata": {},
   "outputs": [
    {
     "name": "stdout",
     "output_type": "stream",
     "text": [
      "5\n",
      "[1, 2, 3, 4]\n"
     ]
    }
   ],
   "source": [
    "top = x.pop() # pop() забирает элемент из конца списка\n",
    "print(top, x, sep='\\n')"
   ]
  },
  {
   "cell_type": "code",
   "execution_count": 12,
   "metadata": {},
   "outputs": [
    {
     "name": "stdout",
     "output_type": "stream",
     "text": [
      "4\n",
      "[1, 2, 3]\n"
     ]
    }
   ],
   "source": [
    "top = x.pop()\n",
    "print(top, x, sep='\\n')"
   ]
  },
  {
   "cell_type": "markdown",
   "metadata": {},
   "source": [
    "-Для возвращения значения в языке python используется конструкция return\n",
    "-После return  функция дальше не выполняется\n",
    "-Функции не обязательно что-то возвращать: если в функции используется \"пустой\" return или его вообще нет, то вернется None(ничто или ничего) "
   ]
  },
  {
   "cell_type": "markdown",
   "metadata": {},
   "source": [
    "*lst == lst[0], lst[1], ..., lst[-1]"
   ]
  },
  {
   "cell_type": "code",
   "execution_count": 13,
   "metadata": {},
   "outputs": [
    {
     "name": "stdout",
     "output_type": "stream",
     "text": [
      "10 20\n"
     ]
    }
   ],
   "source": [
    "lst = [10, 20]\n",
    "print(*lst)"
   ]
  },
  {
   "cell_type": "code",
   "execution_count": 18,
   "metadata": {},
   "outputs": [
    {
     "name": "stdout",
     "output_type": "stream",
     "text": [
      "10\n",
      "20\n"
     ]
    }
   ],
   "source": [
    "def printab(a, b):\n",
    "    print(a)\n",
    "    print(b)\n",
    "args = {'a':10, 'b':20}\n",
    "printab(**args)"
   ]
  },
  {
   "cell_type": "code",
   "execution_count": 19,
   "metadata": {},
   "outputs": [
    {
     "name": "stdout",
     "output_type": "stream",
     "text": [
      "10  20\n",
      "30\n",
      "40\n",
      "50\n"
     ]
    }
   ],
   "source": [
    "def printab(a, b, *args):\n",
    "    print(a, b, sep='  ')\n",
    "    for arg in args:\n",
    "        print(arg)\n",
    "printab(10, 20, 30, 40, 50)"
   ]
  },
  {
   "cell_type": "code",
   "execution_count": 20,
   "metadata": {},
   "outputs": [
    {
     "name": "stdout",
     "output_type": "stream",
     "text": [
      "10  20\n",
      "c 30\n",
      "d 40\n",
      "jimmi 123\n"
     ]
    }
   ],
   "source": [
    "def printab(a, b, **kwargs):\n",
    "    print(a, b, sep='  ')\n",
    "    for key in kwargs:\n",
    "        print(key, kwargs[key])\n",
    "printab(10, 20, c=30, d=40, jimmi=123)"
   ]
  },
  {
   "cell_type": "markdown",
   "metadata": {},
   "source": [
    "## Порядок объявления перменных"
   ]
  },
  {
   "cell_type": "code",
   "execution_count": null,
   "metadata": {},
   "outputs": [],
   "source": [
    "def fucntion_name(positional_args, positional_args_with_default, *pos_args_name, keyword_only_args, **kw_args_name)"
   ]
  },
  {
   "cell_type": "code",
   "execution_count": null,
   "metadata": {},
   "outputs": [],
   "source": [
    "def printab(a, b=10, *args, c=10, d, **kwargs)"
   ]
  },
  {
   "cell_type": "markdown",
   "metadata": {},
   "source": [
    "Рекурсивные функции. Фибоначи"
   ]
  },
  {
   "cell_type": "code",
   "execution_count": null,
   "metadata": {},
   "outputs": [],
   "source": [
    "def fib(x):\n",
    "    if x==0 or x==1:\n",
    "        return 1\n",
    "    return fib(x-2)+fib(x-1)\n",
    "print(fib(4))"
   ]
  },
  {
   "cell_type": "code",
   "execution_count": 4,
   "metadata": {},
   "outputs": [
    {
     "name": "stdout",
     "output_type": "stream",
     "text": [
      "8\n"
     ]
    }
   ],
   "source": [
    "def fib(x):\n",
    "    if x==0 or x==1:\n",
    "        return 1\n",
    "    return fib(x-2) + fib(x-1)\n",
    "print(fib(5))"
   ]
  }
 ],
 "metadata": {
  "kernelspec": {
   "display_name": "Python 3.8.5 64-bit",
   "language": "python",
   "name": "python38564bitaf0bb5075d664e98af35ce1e7d7bf570"
  },
  "language_info": {
   "codemirror_mode": {
    "name": "ipython",
    "version": 3
   },
   "file_extension": ".py",
   "mimetype": "text/x-python",
   "name": "python",
   "nbconvert_exporter": "python",
   "pygments_lexer": "ipython3",
   "version": "3.8.5"
  }
 },
 "nbformat": 4,
 "nbformat_minor": 4
}
