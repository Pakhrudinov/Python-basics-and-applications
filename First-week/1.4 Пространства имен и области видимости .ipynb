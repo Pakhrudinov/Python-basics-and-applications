{
 "cells": [
  {
   "cell_type": "markdown",
   "metadata": {},
   "source": [
    "## 1.4 Пространства имен и области видимости "
   ]
  },
  {
   "cell_type": "markdown",
   "metadata": {},
   "source": [
    "Name space(пространство имен) - это сопоставления наших имен(переменных, функций, классов) и реальных объектов в оперативной памяти"
   ]
  },
  {
   "cell_type": "code",
   "execution_count": null,
   "metadata": {},
   "outputs": [],
   "source": [
    "a = 1           # a попадет в namespace main(глобальный)\n",
    "def fun(...):   # fun  попадет в namespace main\n",
    "    x = 1       # x не попадет в namespace main, попадет в локальный namespace"
   ]
  },
  {
   "cell_type": "markdown",
   "metadata": {},
   "source": [
    "Основное правило, которым пользуется интерпретатор - это сначала посмотри в локальном неймспейсе, потом в функции, которая на вызвала итд"
   ]
  },
  {
   "cell_type": "markdown",
   "metadata": {},
   "source": [
    "LEGB - правило для поиска переменной внутри функции\n",
    "Local - локальный namespace функции\n",
    "Enclosed - namesapce'ы d в которых мы находимся до global \n",
    "Global - global'ьный scope\n",
    "Builtin - scope который соответсвует namespace builtin"
   ]
  },
  {
   "cell_type": "markdown",
   "metadata": {},
   "source": [
    "Условные оператары и циклы не создаются локальных простарнств"
   ]
  },
  {
   "cell_type": "code",
   "execution_count": 2,
   "metadata": {},
   "outputs": [
    {
     "name": "stdout",
     "output_type": "stream",
     "text": [
      "True\n",
      "True\n",
      "False\n",
      "False\n"
     ]
    }
   ],
   "source": [
    "ok_status = True\n",
    "def check(x):\n",
    "    global ok_status  # берёт с глобального namespace может так же там создать переменную \n",
    "    if x%2==0:\n",
    "        ok_status = True\n",
    "        return True\n",
    "    ok_status = False\n",
    "    return False\n",
    "print(check(2), ok_status, sep='\\n')\n",
    "print(check(3), ok_status, sep='\\n')"
   ]
  },
  {
   "cell_type": "markdown",
   "metadata": {},
   "source": [
    "nonlocal ok_status    - ищет такое namespace которое содержит ok_status и находится \"ближе всего\""
   ]
  },
  {
   "cell_type": "markdown",
   "metadata": {},
   "source": [
    "Для каждой области видимости у нас есть соответствующее ей пространство имен, и мы ищем переменные в этих пространствах имен"
   ]
  },
  {
   "cell_type": "markdown",
   "metadata": {},
   "source": [
    "## tasks condition below"
   ]
  },
  {
   "cell_type": "markdown",
   "metadata": {},
   "source": [
    "Мое решение"
   ]
  },
  {
   "cell_type": "code",
   "execution_count": null,
   "metadata": {},
   "outputs": [],
   "source": [
    "def create(namespace, parent):\n",
    "    my_dict[namespace] = [[], [*my_dict[parent][1], parent]]\n",
    "\n",
    "def add(namespace, var):\n",
    "    my_dict[namespace][0].append(var)\n",
    "\n",
    "def get(namespace, var):\n",
    "    if var in my_dict[namespace][0]:\n",
    "        \n",
    "        return print(namespace)\n",
    "    for i in my_dict[namespace][1][::-1]:\n",
    "        if var in my_dict[i][0]:\n",
    "            return print(i)\n",
    "    \n",
    "    return  print(None)\n",
    "\n",
    "my_dict = {'global':[[], []]}\n",
    "\n",
    "input_fun  = [[ i for i in input().split()] for j in range(int(input()))]\n",
    "\n",
    "for i in input_fun:\n",
    "    if function(i) == 0:\n",
    "        create(i[1], i[2])\n",
    "    \n",
    "    elif function(i) == 1:\n",
    "        add(i[1], i[2])\n",
    "    \n",
    "    else:\n",
    "        get(i[1], i[2])"
   ]
  },
  {
   "cell_type": "markdown",
   "metadata": {},
   "source": [
    "Решение препода"
   ]
  },
  {
   "cell_type": "code",
   "execution_count": null,
   "metadata": {},
   "outputs": [],
   "source": [
    "n = int(input())\n",
    "\n",
    "parent = {\"global\": None}\n",
    "vs = {\"global\": set()}\n",
    "\n",
    "for _ in range(n):\n",
    "    t, fst, snd = input().split()\n",
    "    if t == \"create\":\n",
    "        parent[fst] = snd\n",
    "        vs[fst] = set()\n",
    "    elif t == \"add\":\n",
    "        vs[fst].add(snd)\n",
    "    else:  # t == get\n",
    "        while fst is not None:\n",
    "            if snd in vs[fst]:\n",
    "                break\n",
    "            fst = parent[fst]\n",
    "        print(fst)"
   ]
  },
  {
   "cell_type": "markdown",
   "metadata": {},
   "source": [
    "Реализуйте программу, которая будет эмулировать работу с пространствами имен. Необходимо реализовать поддержку создания пространств имен и добавление в них переменных.\n",
    "\n",
    "В данной задаче у каждого пространства имен есть уникальный текстовый идентификатор – его имя.\n",
    "\n",
    "Вашей программе на вход подаются следующие запросы:\n",
    "\n",
    "create <namespace> <parent> –  создать новое пространство имен с именем <namespace> внутри пространства <parent>\n",
    "add <namespace> <var> – добавить в пространство <namespace> переменную <var>\n",
    "get <namespace> <var> – получить имя пространства, из которого будет взята переменная <var> при запросе из пространства <namespace>, или None, если такого пространства не существует"
   ]
  }
 ],
 "metadata": {
  "kernelspec": {
   "display_name": "Python 3.8.5 64-bit",
   "language": "python",
   "name": "python38564bitaf0bb5075d664e98af35ce1e7d7bf570"
  },
  "language_info": {
   "codemirror_mode": {
    "name": "ipython",
    "version": 3
   },
   "file_extension": ".py",
   "mimetype": "text/x-python",
   "name": "python",
   "nbconvert_exporter": "python",
   "pygments_lexer": "ipython3",
   "version": "3.8.5"
  }
 },
 "nbformat": 4,
 "nbformat_minor": 4
}
