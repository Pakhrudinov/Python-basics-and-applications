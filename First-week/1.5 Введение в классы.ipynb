{
 "cells": [
  {
   "cell_type": "markdown",
   "metadata": {},
   "source": [
    "# 1.5 Введение в классы"
   ]
  },
  {
   "cell_type": "markdown",
   "metadata": {},
   "source": [
    "Классы позваляют нам определить поведение объектов данного класса.  Классы - это механизм и синтаксис для описания собственных типов данных"
   ]
  },
  {
   "cell_type": "code",
   "execution_count": 2,
   "metadata": {},
   "outputs": [],
   "source": [
    "class Myclass:\n",
    "    a = 10            #тело функции исполнятеся в момент определения класса, в отличии от функции\n",
    "    def func(self):     #для тела класса создается отдельный namespace и перменный закрепляются за обектом классом\n",
    "        print('Hello')"
   ]
  },
  {
   "cell_type": "code",
   "execution_count": 6,
   "metadata": {},
   "outputs": [
    {
     "name": "stdout",
     "output_type": "stream",
     "text": [
      "10\n",
      "<function Myclass.func at 0x7f8d10c8f9d0>\n"
     ]
    }
   ],
   "source": [
    "print(Myclass.a, Myclass.func, sep='\\n')  #a, func - атрибуты класса, образаются к ним через точку"
   ]
  },
  {
   "cell_type": "code",
   "execution_count": 7,
   "metadata": {
    "scrolled": true
   },
   "outputs": [
    {
     "name": "stdout",
     "output_type": "stream",
     "text": [
      "<class '__main__.Myclass'>\n"
     ]
    }
   ],
   "source": [
    "x = Myclass() #создание нового объекта класса\n",
    "print(type(x))"
   ]
  },
  {
   "cell_type": "markdown",
   "metadata": {},
   "source": [
    "После создания класса нам гарантируется:\n",
    "1 мы всегда можем вызвать конструктор class()\n",
    "2 мы можем обращаться к его атрибутам"
   ]
  },
  {
   "cell_type": "code",
   "execution_count": 8,
   "metadata": {},
   "outputs": [
    {
     "name": "stdout",
     "output_type": "stream",
     "text": [
      "0\n",
      "1\n"
     ]
    }
   ],
   "source": [
    "class Counter:\n",
    "    pass              # пустой класс\n",
    "x = Counter()\n",
    "x.count = 0\n",
    "print(x.count)\n",
    "x.count += 1 \n",
    "print(x.count)"
   ]
  },
  {
   "cell_type": "markdown",
   "metadata": {},
   "source": [
    "Конструктор нужен для создания новых обектов класса"
   ]
  },
  {
   "cell_type": "code",
   "execution_count": null,
   "metadata": {},
   "outputs": [],
   "source": [
    "class Couner:\n",
    "    def __init__(self):  #функция __init__ устанавливает атрибу для нашего обекта self(принимает пустой экземпляр\n",
    "        self.cout = 0                                                                                  #класса)\n",
    "        "
   ]
  },
  {
   "cell_type": "markdown",
   "metadata": {},
   "source": [
    "конструктором является скорее __new__. Ведь __init__ получает уже готовый объект и по сути только инициализирует его. #потом как-нибудь осмыслю"
   ]
  },
  {
   "cell_type": "markdown",
   "metadata": {},
   "source": [
    "Почему два почеркивания? __init__\n",
    "Это \"магические\" методы, методы действие которых регламентировано стандартом языка, они вызываются не напрямую, а встроенными функциями или операторами. Два подчёркивания с обеих сторон после имени используются только для них, поэтому свои методы так называть нельзя (вернее можно, но противоречит правилам хорошего тона(и PEP 8), поэтому так делать не стоит)."
   ]
  },
  {
   "cell_type": "code",
   "execution_count": 10,
   "metadata": {},
   "outputs": [
    {
     "name": "stdout",
     "output_type": "stream",
     "text": [
      "10\n",
      "0\n"
     ]
    }
   ],
   "source": [
    "class Couner:\n",
    "    def __init__(self, start=0): \n",
    "        self.cout = start\n",
    "x1 = Couner(10)\n",
    "x = Couner()\n",
    "print(x1.cout, x.cout, sep='\\n')"
   ]
  },
  {
   "cell_type": "markdown",
   "metadata": {},
   "source": [
    "Методы - это такие атрибуты созданного экземпляра, которые являются функциями"
   ]
  },
  {
   "cell_type": "code",
   "execution_count": 13,
   "metadata": {},
   "outputs": [
    {
     "name": "stdout",
     "output_type": "stream",
     "text": [
      "2\n"
     ]
    }
   ],
   "source": [
    "class cs:\n",
    "    def __init__(self): \n",
    "        self.cout = 0\n",
    "    def inc(self):\n",
    "        self.cout += 1\n",
    "    def reset(self):\n",
    "        self.cout = 0\n",
    "x = cs()\n",
    "x.inc() # при вызове метода мы подставляю экземпляр в качестве аргумента self \n",
    "cs.inc(x) # это обсолбтно одно и тоже что и строка сверху\n",
    "print(x.cout)"
   ]
  },
  {
   "cell_type": "markdown",
   "metadata": {},
   "source": [
    "Перменные класса, переменные экземпляра, плохой пример"
   ]
  },
  {
   "cell_type": "code",
   "execution_count": 1,
   "metadata": {
    "scrolled": true
   },
   "outputs": [
    {
     "name": "stdout",
     "output_type": "stream",
     "text": [
      "['Americana', 'Country', 'Russian', \"Drum 'n' base\"]\n"
     ]
    }
   ],
   "source": [
    "class song:\n",
    "    tags = []\n",
    "    def __init__(self, artist, song):\n",
    "        self.artist = artist\n",
    "        self.song = song\n",
    "    def add_tags(self, *args):\n",
    "        self.tags.extend(args)\n",
    "song1 = song(\"Shakey Graves\", \"Roll the Bones\")     #Плохой примел. Tags мы должны относить к атрибуту к \n",
    "song1.add_tags(\"Americana\", \"Country\")              # конкретного экземеляра, а не всего класса\n",
    "\n",
    "song2 = song(\"Neuromanax Feofan\", \"Holodno v lesu\")\n",
    "song2.add_tags(\"Russian\", \"Drum 'n' base\")\n",
    "print(song2.tags)"
   ]
  },
  {
   "cell_type": "markdown",
   "metadata": {},
   "source": [
    "выражение l.adder(100) преобразуется в выражение B.adder(l, 100) __объяснение для чего используется self__"
   ]
  },
  {
   "cell_type": "markdown",
   "metadata": {},
   "source": [
    "Если метод не принимает объект, к которому применяется, в качестве первого параметра, то такие методы в других языках программирования называются статическими. Они имеют особый модификатор и могут вызываться как через класс, так и через объект этого класса. В Python для имитации статических методов используется специальный декоратор, после чего метод можно вызывать не только через класс, но и через объект, не передавая сам объект."
   ]
  },
  {
   "cell_type": "markdown",
   "metadata": {},
   "source": [
    "## Суперский сайт где подробно и понятно написано про классы https://younglinux.info/oopython/objects.php"
   ]
  },
  {
   "cell_type": "markdown",
   "metadata": {},
   "source": [
    "## Задачи"
   ]
  },
  {
   "cell_type": "markdown",
   "metadata": {},
   "source": [
    "Условие 1\n",
    "Реализуйте класс MoneyBox, для работы с виртуальной копилкой.\n",
    "\n",
    "Каждая копилка имеет ограниченную вместимость, которая выражается целым числом – количеством монет, которые можно положить в копилку. Класс должен поддерживать информацию о количестве монет в копилке, предоставлять возможность добавлять монеты в копилку и узнавать, можно ли добавить в копилку ещё какое-то количество монет, не превышая ее вместимость"
   ]
  },
  {
   "cell_type": "code",
   "execution_count": null,
   "metadata": {},
   "outputs": [],
   "source": [
    "#Мое решение\n",
    "class MoneyBox:\n",
    "    def __init__(self, capacity):\n",
    "        self.money = 0\n",
    "        self.capacity = capacity\n",
    "    def can_add(self, v):\n",
    "        if self.money+v<=self.capacity:\n",
    "            return True\n",
    "        return False\n",
    "    def add(self, v):\n",
    "        self.money += v"
   ]
  },
  {
   "cell_type": "markdown",
   "metadata": {},
   "source": [
    "Решение атора курса"
   ]
  },
  {
   "cell_type": "markdown",
   "metadata": {},
   "source": [
    "-Ничем не отличается от моего"
   ]
  },
  {
   "cell_type": "markdown",
   "metadata": {},
   "source": [
    "Условие 2\n",
    "Вам дается последовательность целых чисел и вам нужно ее обработать и вывести на экран сумму первой пятерки чисел из этой последовательности, затем сумму второй пятерки, и т. д.\n",
    "\n",
    "Но последовательность не дается вам сразу целиком. С течением времени к вам поступают её последовательные части. Например, сначала первые три элемента, потом следующие шесть, потом следующие два и т. д.\n",
    "\n",
    "Реализуйте класс Buffer, который будет накапливать в себе элементы последовательности и выводить сумму пятерок последовательных элементов по мере их накопления.\n",
    "\n",
    "Одним из требований к классу является то, что он не должен хранить в себе больше элементов, чем ему действительно необходимо, т. е. он не должен хранить элементы, которые уже вошли в пятерку, для которой была выведена сумма"
   ]
  },
  {
   "cell_type": "code",
   "execution_count": null,
   "metadata": {},
   "outputs": [],
   "source": [
    "#Мое решение\n",
    "class Buffer:\n",
    "    def __init__(self):\n",
    "        self.lst = []\n",
    "    def add(self, *a):\n",
    "        for i in a:\n",
    "            self.lst.append(i)\n",
    "            if len(self.lst)==5:\n",
    "                print(sum(self.lst))\n",
    "                self.lst = []\n",
    "            \n",
    "\n",
    "    def get_current_part(self):\n",
    "        return self.lst"
   ]
  },
  {
   "cell_type": "markdown",
   "metadata": {},
   "source": [
    "Решение автора курса"
   ]
  },
  {
   "cell_type": "markdown",
   "metadata": {},
   "source": [
    "-Ничем не отличается от моего"
   ]
  },
  {
   "cell_type": "code",
   "execution_count": null,
   "metadata": {},
   "outputs": [],
   "source": [
    "#Мое решение год назад\n",
    "class Buffer:\n",
    "    def __init__(self):\n",
    "        self.lst = []\n",
    "    def add(self, *a):\n",
    "        self.lst.extend(a)\n",
    "        while len(self.lst)>=5:\n",
    "            print(sum(self.lst[:5]))\n",
    "            self.lst=self.lst[5:]\n",
    "    def get_current_part(self):\n",
    "        return self.lst"
   ]
  }
 ],
 "metadata": {
  "kernelspec": {
   "display_name": "Python 3.8.5 64-bit",
   "language": "python",
   "name": "python38564bitaf0bb5075d664e98af35ce1e7d7bf570"
  },
  "language_info": {
   "codemirror_mode": {
    "name": "ipython",
    "version": 3
   },
   "file_extension": ".py",
   "mimetype": "text/x-python",
   "name": "python",
   "nbconvert_exporter": "python",
   "pygments_lexer": "ipython3",
   "version": "3.8.5"
  }
 },
 "nbformat": 4,
 "nbformat_minor": 4
}
