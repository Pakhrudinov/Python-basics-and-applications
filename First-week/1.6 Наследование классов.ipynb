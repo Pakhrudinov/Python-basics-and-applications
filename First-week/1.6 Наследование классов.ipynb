{
 "cells": [
  {
   "cell_type": "markdown",
   "metadata": {},
   "source": [
    "# 1.6 Наследование классов"
   ]
  },
  {
   "cell_type": "markdown",
   "metadata": {},
   "source": [
    "Наслдование классов нужно тогда, когда мы ходим чтоб наш оббъект ввел себя почти также как и объект другого типа за маленькими или не маленькими исключениями "
   ]
  },
  {
   "cell_type": "code",
   "execution_count": null,
   "metadata": {},
   "outputs": [],
   "source": [
    "class class_name(Base1, Base2, Base3) # Base1, Base2, Base3 - классы от которых мы наследуемся\n",
    "    pass"
   ]
  },
  {
   "cell_type": "markdown",
   "metadata": {},
   "source": []
  },
  {
   "cell_type": "code",
   "execution_count": 5,
   "metadata": {},
   "outputs": [
    {
     "name": "stdout",
     "output_type": "stream",
     "text": [
      "[]\n",
      "[1, 2, 3, 4, 5]\n",
      "False\n",
      "True\n"
     ]
    }
   ],
   "source": [
    "class Mylist(list):\n",
    "    def even_length(self):\n",
    "        return len(self)%2==0\n",
    "x = Mylist()\n",
    "print(x)\n",
    "x.extend([1, 2, 3, 4, 5]) #Берем метод у класса list,так как не нашли его внутри экземляре и внутри нашего класса \n",
    "print(x)\n",
    "print(x.even_length())\n",
    "x.append(6)\n",
    "print(x.even_length())"
   ]
  },
  {
   "cell_type": "code",
   "execution_count": 6,
   "metadata": {},
   "outputs": [
    {
     "name": "stdout",
     "output_type": "stream",
     "text": [
      "True\n",
      "False\n"
     ]
    }
   ],
   "source": [
    "#issubclass(class1, class2) проверят является первый аргумент наследником второго аргуметнта \n",
    "class D: pass \n",
    "class E: pass\n",
    "class B(D, E): pass\n",
    "class C: pass\n",
    "class A(B, C): pass\n",
    "print(issubclass(A, A)) #True любой класс является наследником самово себя\n",
    "print(issubclass(C, D))\n",
    "print(issubclass(C, object)) # True все классы наследуются с object, сам object не откого не наследуется"
   ]
  },
  {
   "cell_type": "code",
   "execution_count": null,
   "metadata": {},
   "outputs": [],
   "source": [
    "isinstance(x, A) # мб не правильно понял# тоже самое что и issubclass только вместо класса используется экземляр\n",
    "                # класса в качестве первого аргумента"
   ]
  },
  {
   "cell_type": "markdown",
   "metadata": {},
   "source": [
    "__repr__(self): -- формат вывода "
   ]
  },
  {
   "cell_type": "code",
   "execution_count": 7,
   "metadata": {
    "scrolled": true
   },
   "outputs": [
    {
     "name": "stdout",
     "output_type": "stream",
     "text": [
      "[<class '__main__.A'>, <class '__main__.B'>, <class '__main__.D'>, <class '__main__.E'>, <class '__main__.C'>, <class 'object'>]\n"
     ]
    }
   ],
   "source": [
    "class D: pass \n",
    "class E: pass\n",
    "class B(D, E): pass\n",
    "class C: pass\n",
    "class A(B, C): pass\n",
    "print(A.mro())# mro - methon resolution order(парядок разрешения методов)"
   ]
  },
  {
   "cell_type": "markdown",
   "metadata": {},
   "source": [
    "И как же работает mro() в третьей версии?\n",
    "Хороший вопрос! Он работает по принципу \"Проход слева-направо\"."
   ]
  },
  {
   "cell_type": "code",
   "execution_count": null,
   "metadata": {},
   "outputs": [],
   "source": [
    "x = super(Mylist, self).pop() # Ищем функцию pop() в родителях класса Mylist исключая сам Mylist и\n",
    "                            # применяем функцию к self # эта запись была бы идентична записи lsit.pop(self)"
   ]
  },
  {
   "cell_type": "markdown",
   "metadata": {},
   "source": [
    "## Интересный пример"
   ]
  },
  {
   "cell_type": "markdown",
   "metadata": {},
   "source": [
    "## 1"
   ]
  },
  {
   "cell_type": "code",
   "execution_count": 8,
   "metadata": {},
   "outputs": [
    {
     "name": "stdout",
     "output_type": "stream",
     "text": [
      "10\n",
      "30\n"
     ]
    }
   ],
   "source": [
    "class Base:\n",
    "    def __init__(self):\n",
    "        self.val = 0\n",
    "    def add_one(self):\n",
    "        self.val += 1\n",
    "    def add_many(self, x):\n",
    "        for i in range(x):\n",
    "            self.add_one()\n",
    "class Derived(Base):         #при вызове метода 'add_one' внутри класса 'Base' поиск имени \n",
    "    def add_one(self):     #'add_one' вновь начинается с пространства имен класса 'Derived' (или экземпляра класса)\n",
    "        self.val += 10\n",
    "a = Derived()\n",
    "a.add_one()\n",
    "b = Derived()\n",
    "b.add_many(3)\n",
    "print(a.val)\n",
    "print(b.val)"
   ]
  },
  {
   "cell_type": "markdown",
   "metadata": {},
   "source": [
    "## 2"
   ]
  },
  {
   "cell_type": "code",
   "execution_count": null,
   "metadata": {},
   "outputs": [],
   "source": [
    "class A:\n",
    "    pass\n",
    "\n",
    "class B(A):\n",
    "    pass\n",
    "\n",
    "class C:\n",
    "    pass\n",
    "\n",
    "class D(C):\n",
    "    pass\n",
    "\n",
    "class E(B, C, D):\n",
    "    pass"
   ]
  },
  {
   "cell_type": "markdown",
   "metadata": {},
   "source": [
    "опущена ошибка в объявлении наследования классов\n",
    "class E(B, C, D):\n",
    "    pass\n",
    "Нужно было использовать либо C либо D но не оба, поскольку D уже наследуется от C"
   ]
  },
  {
   "cell_type": "markdown",
   "metadata": {},
   "source": [
    "## Задачи"
   ]
  },
  {
   "cell_type": "markdown",
   "metadata": {},
   "source": [
    "Условие 1 https://stepik.org/lesson/24462/step/7?thread=solutions&unit=6768"
   ]
  },
  {
   "cell_type": "code",
   "execution_count": null,
   "metadata": {},
   "outputs": [],
   "source": [
    "#Мое решение\n",
    "parents = dict()\n",
    "for i in range(int(input())):\n",
    "    line = input().split(':')\n",
    "    if len(line) == 1:\n",
    "        parents[line[0]] = []\n",
    "    else:\n",
    "        parents[line[0].split()[0]] = line[1].split()\n",
    "\n",
    "for i in parents.items():\n",
    "    if len(i[1])!=0:\n",
    "        for j in i[1]:\n",
    "            parents[i[0]] += parents[j]\n",
    "\n",
    "question = []\n",
    "\n",
    "for i in range(int(input())):\n",
    "    question.append(input())\n",
    "\n",
    "for i in question:\n",
    "    i = i.split()\n",
    "    if i[1] in parents:\n",
    "        if i[0] == i[1]:\n",
    "            print('Yes')\n",
    "        else:\n",
    "            if i[0] in parents[i[1]]:\n",
    "                print('Yes')\n",
    "            else:\n",
    "                print('No')\n",
    "    else:\n",
    "        print('No')\n",
    "for i in parents:\n",
    "    parents[i] = set(parents[i])"
   ]
  },
  {
   "cell_type": "markdown",
   "metadata": {},
   "source": [
    "Решение автора(я не понял как оно работает:))"
   ]
  },
  {
   "cell_type": "code",
   "execution_count": null,
   "metadata": {},
   "outputs": [],
   "source": [
    "n = int(input())\n",
    "\n",
    "parents = {}\n",
    "for _ in range(n):\n",
    "    a = input().split()\n",
    "    parents[a[0]] = [] if len(a) == 1 else a[2:]\n",
    "\n",
    "def is_parent(child, parent):\n",
    "    return child == parent or any(map(lambda p: is_parent(p, parent), parents[child]))\n",
    "\n",
    "q = int(input())\n",
    "for _ in range(q):\n",
    "    a, b = input().split()\n",
    "    print(\"Yes\" if is_parent(b, a) else \"No\")"
   ]
  }
 ],
 "metadata": {
  "kernelspec": {
   "display_name": "Python 3.8.5 64-bit",
   "language": "python",
   "name": "python38564bitaf0bb5075d664e98af35ce1e7d7bf570"
  },
  "language_info": {
   "codemirror_mode": {
    "name": "ipython",
    "version": 3
   },
   "file_extension": ".py",
   "mimetype": "text/x-python",
   "name": "python",
   "nbconvert_exporter": "python",
   "pygments_lexer": "ipython3",
   "version": "3.8.5"
  }
 },
 "nbformat": 4,
 "nbformat_minor": 4
}
