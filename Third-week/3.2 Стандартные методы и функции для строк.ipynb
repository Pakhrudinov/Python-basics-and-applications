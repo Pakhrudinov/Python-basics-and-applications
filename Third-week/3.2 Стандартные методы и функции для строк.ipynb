{
 "cells": [
  {
   "cell_type": "markdown",
   "metadata": {},
   "source": [
    "# 3.2 Стандартные методы и функции для строк"
   ]
  },
  {
   "cell_type": "markdown",
   "metadata": {},
   "source": [
    "## Функции и методы строк"
   ]
  },
  {
   "cell_type": "markdown",
   "metadata": {},
   "source": [
    "### str in str"
   ]
  },
  {
   "cell_type": "code",
   "execution_count": 1,
   "metadata": {
    "scrolled": true
   },
   "outputs": [
    {
     "name": "stdout",
     "output_type": "stream",
     "text": [
      "True\n",
      "False\n"
     ]
    }
   ],
   "source": [
    "print('abc' in 'qwabcqw')\n",
    "print('abce' in 'abcd')"
   ]
  },
  {
   "cell_type": "markdown",
   "metadata": {},
   "source": [
    "### .find(<str>)"
   ]
  },
  {
   "cell_type": "code",
   "execution_count": 3,
   "metadata": {
    "scrolled": true
   },
   "outputs": [
    {
     "name": "stdout",
     "output_type": "stream",
     "text": [
      "1\n",
      "-1\n"
     ]
    }
   ],
   "source": [
    "print('cabcd'.find('abc')) # индекс первого вхождения или -1\n",
    "print('cabcd'.find('aеbc'))"
   ]
  },
  {
   "cell_type": "markdown",
   "metadata": {},
   "source": [
    "### .__doc__ "
   ]
  },
  {
   "cell_type": "code",
   "execution_count": 4,
   "metadata": {
    "scrolled": true
   },
   "outputs": [
    {
     "name": "stdout",
     "output_type": "stream",
     "text": [
      "S.find(sub[, start[, end]]) -> int\n",
      "\n",
      "Return the lowest index in S where substring sub is found,\n",
      "such that sub is contained within S[start:end].  Optional\n",
      "arguments start and end are interpreted as in slice notation.\n",
      "\n",
      "Return -1 on failure.\n"
     ]
    }
   ],
   "source": [
    "print(str.find.__doc__)  # документация по методу"
   ]
  },
  {
   "cell_type": "markdown",
   "metadata": {},
   "source": [
    "### .index()"
   ]
  },
  {
   "cell_type": "code",
   "execution_count": 5,
   "metadata": {
    "scrolled": true
   },
   "outputs": [
    {
     "name": "stdout",
     "output_type": "stream",
     "text": [
      "1\n"
     ]
    },
    {
     "ename": "ValueError",
     "evalue": "substring not found",
     "output_type": "error",
     "traceback": [
      "\u001b[0;31m---------------------------------------------------------------------------\u001b[0m",
      "\u001b[0;31mValueError\u001b[0m                                Traceback (most recent call last)",
      "\u001b[0;32m<ipython-input-5-a2d16560c56c>\u001b[0m in \u001b[0;36m<module>\u001b[0;34m\u001b[0m\n\u001b[1;32m      1\u001b[0m \u001b[0mprint\u001b[0m\u001b[0;34m(\u001b[0m\u001b[0;34m'cabcd'\u001b[0m\u001b[0;34m.\u001b[0m\u001b[0mindex\u001b[0m\u001b[0;34m(\u001b[0m\u001b[0;34m'abc'\u001b[0m\u001b[0;34m)\u001b[0m\u001b[0;34m)\u001b[0m     \u001b[0;31m## индекс первого вхождения или ValueError\u001b[0m\u001b[0;34m\u001b[0m\u001b[0;34m\u001b[0m\u001b[0m\n\u001b[0;32m----> 2\u001b[0;31m \u001b[0mprint\u001b[0m\u001b[0;34m(\u001b[0m\u001b[0;34m'cabcd'\u001b[0m\u001b[0;34m.\u001b[0m\u001b[0mindex\u001b[0m\u001b[0;34m(\u001b[0m\u001b[0;34m'aеbc'\u001b[0m\u001b[0;34m)\u001b[0m\u001b[0;34m)\u001b[0m\u001b[0;34m\u001b[0m\u001b[0;34m\u001b[0m\u001b[0m\n\u001b[0m",
      "\u001b[0;31mValueError\u001b[0m: substring not found"
     ]
    }
   ],
   "source": [
    "print('cabcd'.index('abc'))     ## индекс первого вхождения или ValueError\n",
    "print('cabcd'.index('aеbc'))"
   ]
  },
  {
   "cell_type": "markdown",
   "metadata": {},
   "source": [
    "### .startwith()    .endwith()"
   ]
  },
  {
   "cell_type": "code",
   "execution_count": 8,
   "metadata": {
    "scrolled": true
   },
   "outputs": [
    {
     "name": "stdout",
     "output_type": "stream",
     "text": [
      "True\n",
      "True\n"
     ]
    }
   ],
   "source": [
    "s = 'qwert yuio asdf'\n",
    "print(s.startswith('qwert yuio')) # проверяет начинается ли строка со слов 'qwer yuio'\n",
    "s = 'image.png'\n",
    "print(s.endswith('png'))   #проверяет заканчивается ли строка на строку  \"png\""
   ]
  },
  {
   "cell_type": "markdown",
   "metadata": {},
   "source": [
    "### .count()"
   ]
  },
  {
   "cell_type": "code",
   "execution_count": 12,
   "metadata": {
    "scrolled": true
   },
   "outputs": [
    {
     "name": "stdout",
     "output_type": "stream",
     "text": [
      "2\n",
      "1\n"
     ]
    }
   ],
   "source": [
    "s = 'abcdabc'\n",
    "s1 = 'ababa'\n",
    "print(s.count('abc'))  # количество вхождений abc\n",
    "print(s1.count('aba'))  # количество не пересекающих вхождений"
   ]
  },
  {
   "cell_type": "markdown",
   "metadata": {},
   "source": [
    "### Правостороннии аналоги - все тоже самое только считают текст с права налево"
   ]
  },
  {
   "cell_type": "code",
   "execution_count": 13,
   "metadata": {
    "scrolled": true
   },
   "outputs": [
    {
     "name": "stdout",
     "output_type": "stream",
     "text": [
      "0\n",
      "4\n"
     ]
    }
   ],
   "source": [
    "s = 'abcdabc'\n",
    "print(s.find('abc'))\n",
    "print(s.rfind('abc'))"
   ]
  },
  {
   "cell_type": "markdown",
   "metadata": {},
   "source": [
    "### .lower()   .upper()"
   ]
  },
  {
   "cell_type": "code",
   "execution_count": 14,
   "metadata": {
    "scrolled": true
   },
   "outputs": [
    {
     "name": "stdout",
     "output_type": "stream",
     "text": [
      "qsfghhytrer hghkjjkhkjhbytty\n",
      "QSFGHHYTRER HGHKJJKHKJHBYTTY\n"
     ]
    }
   ],
   "source": [
    "s = 'QSfghhyTRER HGHkjjkhkjhbYTTY'\n",
    "print(s.lower())       #нижний регистр\n",
    "print(s.upper())       #верхний регистр"
   ]
  },
  {
   "cell_type": "markdown",
   "metadata": {},
   "source": [
    "### .replace()"
   ]
  },
  {
   "cell_type": "code",
   "execution_count": 15,
   "metadata": {
    "scrolled": true
   },
   "outputs": [
    {
     "name": "stdout",
     "output_type": "stream",
     "text": [
      "1,2,3,4\n",
      "1, 2, 3, 4\n"
     ]
    }
   ],
   "source": [
    "s = '1,2,3,4'\n",
    "print(s)\n",
    "print(s.replace(',', ', '))  #заменяем \",\" на \", \""
   ]
  },
  {
   "cell_type": "markdown",
   "metadata": {},
   "source": [
    "### .split()"
   ]
  },
  {
   "cell_type": "code",
   "execution_count": 17,
   "metadata": {
    "scrolled": true
   },
   "outputs": [
    {
     "name": "stdout",
     "output_type": "stream",
     "text": [
      "['1', '2', '3 4']\n"
     ]
    }
   ],
   "source": [
    "s = '1 2 3 4'\n",
    "print(s.split(' ', 2)) #сами догодайтесь что делает))"
   ]
  },
  {
   "cell_type": "markdown",
   "metadata": {},
   "source": [
    "### .rstrip() .lstrip() .strip()"
   ]
  },
  {
   "cell_type": "code",
   "execution_count": 20,
   "metadata": {
    "scrolled": true
   },
   "outputs": [
    {
     "name": "stdout",
     "output_type": "stream",
     "text": [
      "'    1, 2, 3, 4'\n",
      "'1, 2, 3, 4     '\n",
      "'1, 2, 3, 4'\n"
     ]
    }
   ],
   "source": [
    "s = '    1, 2, 3, 4     '\n",
    "print(repr(s.rstrip()))\n",
    "print(repr(s.lstrip()))  # по выводу все понятно\n",
    "print(repr(s.strip()))"
   ]
  },
  {
   "cell_type": "markdown",
   "metadata": {},
   "source": [
    "### ''.join()"
   ]
  },
  {
   "cell_type": "code",
   "execution_count": 23,
   "metadata": {
    "scrolled": true
   },
   "outputs": [
    {
     "name": "stdout",
     "output_type": "stream",
     "text": [
      "'1 2 3 4'\n"
     ]
    }
   ],
   "source": [
    "a = map(str, [1, 2, 3, 4])\n",
    "print(repr(' '.join(a)))"
   ]
  },
  {
   "cell_type": "markdown",
   "metadata": {},
   "source": [
    "## Шаблоны и форматы "
   ]
  },
  {
   "cell_type": "code",
   "execution_count": 28,
   "metadata": {
    "scrolled": true
   },
   "outputs": [
    {
     "name": "stdout",
     "output_type": "stream",
     "text": [
      "London is the capital of Great Britain\n",
      "Vaduz is the capital of Liechtenstein\n",
      "\n",
      "Great Britain is the capital of London\n",
      "Liechtenstein is the capital of Vaduz\n",
      "\n",
      "London is the capital of Great Britain\n",
      "Vaduz is the capital of Liechtenstein\n"
     ]
    }
   ],
   "source": [
    "template = '{} is the capital of {}'\n",
    "print(template.format('London','Great Britain'))   # че творим я в шоке!!!\n",
    "print(template.format('Vaduz','Liechtenstein'))\n",
    "\n",
    "print()\n",
    "\n",
    "template = '{1} is the capital of {0}'\n",
    "print(template.format('London','Great Britain'))   # это читерство !!!\n",
    "print(template.format('Vaduz','Liechtenstein'))\n",
    "\n",
    "print()\n",
    "\n",
    "template = '{capital} is the capital of {country}'\n",
    "print(template.format(capital='London',country='Great Britain'))   # меня больше ничем не удивить\n",
    "print(template.format(capital='Vaduz',country='Liechtenstein'))"
   ]
  },
  {
   "cell_type": "code",
   "execution_count": 32,
   "metadata": {
    "scrolled": true
   },
   "outputs": [
    {
     "name": "stdout",
     "output_type": "stream",
     "text": [
      "0.8166536001497586\n",
      "0.817\n"
     ]
    }
   ],
   "source": [
    "from random import random\n",
    "x = random()\n",
    "print(x)\n",
    "print('{:.3}'.format(x))           # я не знаю что это такое, и мне это не нравится"
   ]
  },
  {
   "cell_type": "markdown",
   "metadata": {},
   "source": [
    "# ------------------------------------------------"
   ]
  },
  {
   "cell_type": "markdown",
   "metadata": {},
   "source": [
    "# Задачи"
   ]
  },
  {
   "cell_type": "markdown",
   "metadata": {},
   "source": [
    "Условие 1 Вашей программе на вход подаются три строки s, a, b, состоящие из строчных латинских букв.\n",
    "За одну операцию вы можете заменить все вхождения строки a в строку s на строку b.\n",
    "\n",
    "Например, s = \"abab\", a = \"ab\", b = \"ba\", тогда после выполнения одной операции строка s перейдет в строку \"baba\", после выполнения двух и операций – в строку \"bbaa\", и дальнейшие операции не будут изменять строку s.\n",
    "\n",
    "Необходимо узнать, после какого минимального количества операций в строке s не останется вхождений строки a. Если операций потребуется более 1000, выведите Impossible."
   ]
  },
  {
   "cell_type": "code",
   "execution_count": null,
   "metadata": {},
   "outputs": [],
   "source": [
    "# Мое решение\n",
    "# C гавнокодил\n",
    "s, a, b = (input() for i in range(3))\n",
    "\n",
    "if a == b and a in s:\n",
    "    print('Impossible')\n",
    "else:\n",
    "    i = 0\n",
    "    while a in s and i<1000:\n",
    "        s = s.replace(a, b)\n",
    "        i += 1\n",
    "    if i == 1000:\n",
    "        print('Impossible')\n",
    "    else:\n",
    "        print(i)\n"
   ]
  },
  {
   "cell_type": "code",
   "execution_count": null,
   "metadata": {},
   "outputs": [],
   "source": [
    "#Решение автора\n",
    "s = input()\n",
    "a = input()\n",
    "b = input()\n",
    "\n",
    "if a not in s:\n",
    "    print(0)\n",
    "elif a in b:\n",
    "    print(\"Impossible\")\n",
    "else:\n",
    "    ans = 0\n",
    "    while a in s:\n",
    "        s = s.replace(a, b)\n",
    "        ans += 1\n",
    "\n",
    "    print(ans)"
   ]
  },
  {
   "cell_type": "code",
   "execution_count": null,
   "metadata": {},
   "outputs": [],
   "source": [
    "# Красивое решения в комиентах\n",
    "s, a, b = (input() for _ in range(3))\n",
    "def repl_gen(s, a, b):\n",
    "    while a in s: s = s.replace(a, b); yield True\n",
    "print('Impossible' if a in b and a in s else sum(repl_gen(s, a, b)))"
   ]
  },
  {
   "cell_type": "markdown",
   "metadata": {},
   "source": [
    "# -------------------------------------------------------"
   ]
  },
  {
   "cell_type": "markdown",
   "metadata": {},
   "source": [
    "Условие 2\n",
    "Вашей программе на вход подаются две строки s и t, состоящие из строчных латинских букв.\n",
    "\n",
    "Выведите одно число – количество вхождений строки t в строку s.\n",
    "\n",
    "Пример:\n",
    "s = \"abababa\"\n",
    "t = \"aba\"\n",
    "\n",
    "Вхождения строки t в строку s:\n",
    "abababa\n",
    "abababa\n",
    "abababa"
   ]
  },
  {
   "cell_type": "code",
   "execution_count": null,
   "metadata": {},
   "outputs": [],
   "source": [
    "# Мое решение\n",
    "s, t = (input() for i in range(2))\n",
    "\n",
    "i = 0\n",
    "n = len(t)\n",
    "while t in s:\n",
    "    print(s)\n",
    "    if s.startswith(t):\n",
    "        i += 1\n",
    "        s = s[1:]\n",
    "        print(s)\n",
    "    else:\n",
    "        s = s[1:]\n",
    "        print(s)\n",
    "\n",
    "print(i)"
   ]
  },
  {
   "cell_type": "code",
   "execution_count": null,
   "metadata": {},
   "outputs": [],
   "source": [
    "# Решение автора\n",
    "s = input()\n",
    "t = input()\n",
    "ans = 0\n",
    "for i in range(len(s)):\n",
    "    if s[i:].startswith(t):\n",
    "        ans += 1\n",
    "\n",
    "print(ans)"
   ]
  },
  {
   "cell_type": "code",
   "execution_count": null,
   "metadata": {},
   "outputs": [],
   "source": [
    "# Решение в одну строчку\n",
    "s = input()\n",
    "t = input()\n",
    "\n",
    "print(sum(1 for i in range(len(s)) if s.startswith(t, i)))"
   ]
  },
  {
   "cell_type": "code",
   "execution_count": null,
   "metadata": {},
   "outputs": [],
   "source": [
    "# Интересное решение\n",
    "s,t  = [input() for i in range(2)]\n",
    "count,i = 0,0\n",
    "while s.find(t,i) >= 0:\n",
    "  pos = s.find(t,i)\n",
    "  count += 1\n",
    "  i = pos + 1\n",
    "\n",
    "print(count)"
   ]
  },
  {
   "cell_type": "code",
   "execution_count": null,
   "metadata": {},
   "outputs": [],
   "source": [
    "# Решение которое нужно понять\n",
    "import re\n",
    "s, t = input(), '(?=' + input() + ')'\n",
    "print(len(re.findall(t, s)))"
   ]
  }
 ],
 "metadata": {
  "kernelspec": {
   "display_name": "Python 3.8.5 64-bit",
   "language": "python",
   "name": "python38564bitaf0bb5075d664e98af35ce1e7d7bf570"
  },
  "language_info": {
   "codemirror_mode": {
    "name": "ipython",
    "version": 3
   },
   "file_extension": ".py",
   "mimetype": "text/x-python",
   "name": "python",
   "nbconvert_exporter": "python",
   "pygments_lexer": "ipython3",
   "version": "3.8.5"
  }
 },
 "nbformat": 4,
 "nbformat_minor": 4
}
