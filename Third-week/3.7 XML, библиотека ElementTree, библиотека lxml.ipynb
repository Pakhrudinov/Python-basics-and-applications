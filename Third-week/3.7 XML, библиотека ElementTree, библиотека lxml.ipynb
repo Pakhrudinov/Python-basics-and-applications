{
 "cells": [
  {
   "cell_type": "markdown",
   "metadata": {},
   "source": [
    "# 3.7 XML, библиотека ElementTree, библиотека lxml"
   ]
  },
  {
   "cell_type": "markdown",
   "metadata": {},
   "source": [
    "## XML"
   ]
  },
  {
   "cell_type": "markdown",
   "metadata": {},
   "source": [
    "XML(eXtensible Markup Language) -> расширяемый язык разметки, теговый язык разметки(в отлчиии от html мы сами определям теги)\n",
    "\n",
    "hnml - используется чтобы данные отображать\n",
    "\n",
    "xml - используется чтобы данные хранить"
   ]
  },
  {
   "cell_type": "markdown",
   "metadata": {},
   "source": [
    "xml element:\n",
    "\n",
    "<tag> (содержимое тега)</tag>  парные теги\n",
    "\n",
    "<tag/>    одинарный тег\n",
    "\n",
    "атрибуты - это пары ключ значение их объявляют в открывающем теге\n",
    "\n",
    "<tag id='1'>"
   ]
  },
  {
   "cell_type": "markdown",
   "metadata": {},
   "source": [
    "## xml.etree"
   ]
  },
  {
   "cell_type": "code",
   "execution_count": null,
   "metadata": {},
   "outputs": [],
   "source": [
    "from xml.etree import ElementTree\n",
    "\n",
    "tree  = ElementTree.parse('example.xml')    #parse возвращает дерево\n",
    "root = tree.getroot()                  #берем корень\n",
    "# root = ElementTree.fromstring(string_xml_data) to parsefrom str\n",
    "\n",
    "print(root)\n",
    "print(root.tag, root.attrib)\n",
    "\n",
    "for child in root:\n",
    "    print(child.tag, child.attrib) # выводим теги и их атрибуты\n",
    "    \n",
    "print(root[0][0].text)"
   ]
  },
  {
   "cell_type": "markdown",
   "metadata": {},
   "source": [
    "## Все элементы нашего дерево имеют один класс element"
   ]
  },
  {
   "cell_type": "code",
   "execution_count": 12,
   "metadata": {
    "scrolled": true
   },
   "outputs": [
    {
     "name": "stdout",
     "output_type": "stream",
     "text": [
      "240.0\n",
      "240.2\n"
     ]
    }
   ],
   "source": [
    "from xml.etree import ElementTree\n",
    "\n",
    "tree  = ElementTree.parse('example.xml')    #parse возвращает дерево\n",
    "root = tree.getroot()\n",
    "\n",
    "for element in root.iter('scores'):\n",
    "    sum_score = 0\n",
    "    for child in element:\n",
    "        sum_score += float(child.text)\n",
    "    print(sum_score)"
   ]
  },
  {
   "cell_type": "markdown",
   "metadata": {},
   "source": [
    "##  qwe"
   ]
  },
  {
   "cell_type": "code",
   "execution_count": 16,
   "metadata": {},
   "outputs": [],
   "source": [
    "from xml.etree import ElementTree\n",
    "tree  = ElementTree.parse('example.xml')\n",
    "\n",
    "tree.write(\"example_copy.xml\") #создаем копию"
   ]
  },
  {
   "cell_type": "markdown",
   "metadata": {},
   "source": [
    "## Записываем в xml"
   ]
  },
  {
   "cell_type": "code",
   "execution_count": 24,
   "metadata": {
    "scrolled": true
   },
   "outputs": [
    {
     "name": "stdout",
     "output_type": "stream",
     "text": [
      "<Element 'module1' at 0x7ff46310c630> 70\n"
     ]
    }
   ],
   "source": [
    "from xml.etree import ElementTree\n",
    "tree  = ElementTree.parse('example.xml')\n",
    "root = tree.getroot()\n",
    "\n",
    "greg = root[0]\n",
    "module_1 = next(greg.iter('module1'))\n",
    "print(module_1, module_1.text)\n",
    "\n",
    "module_1.text = str(float(module_1.text) + 30)\n",
    "\n",
    "tree.write(\"example_modified.xml\")"
   ]
  },
  {
   "cell_type": "markdown",
   "metadata": {},
   "source": [
    "## set"
   ]
  },
  {
   "cell_type": "code",
   "execution_count": 26,
   "metadata": {},
   "outputs": [],
   "source": [
    "from xml.etree import ElementTree\n",
    "tree  = ElementTree.parse('example_modified.xml')\n",
    "root = tree.getroot()\n",
    "\n",
    "greg = root[0]\n",
    "certificate = greg[2]\n",
    "certificate.set('type', 'with distinction') # добавляем атрибут\n",
    "\n",
    "tree.write(\"exapmle_modified.xml\")"
   ]
  },
  {
   "cell_type": "markdown",
   "metadata": {},
   "source": [
    "## добавляем элемент"
   ]
  },
  {
   "cell_type": "code",
   "execution_count": 30,
   "metadata": {},
   "outputs": [],
   "source": [
    "from xml.etree import ElementTree\n",
    "tree  = ElementTree.parse('example.xml')\n",
    "root = tree.getroot()\n",
    "\n",
    "greg = root[0]\n",
    "\n",
    "description = ElementTree.Element(\"description\") # создание тега\n",
    "description.text = \"Showed execellent skills  during the cuurse\" # описание\n",
    "greg.append(description) # добавляем елемент\n",
    "\n",
    "tree.write('example_modified.xml')\n",
    "\n",
    "\n",
    "description = greg.find('description') # удаление элемента\n",
    "greg.remove(description)\n",
    "\n",
    "tree.write('example_modified.xml')"
   ]
  },
  {
   "cell_type": "markdown",
   "metadata": {},
   "source": [
    "# lxml Задача"
   ]
  },
  {
   "cell_type": "markdown",
   "metadata": {},
   "source": [
    "Условие \n",
    "https://stepik.org/lesson/24474/step/4?unit=6779\n"
   ]
  },
  {
   "cell_type": "code",
   "execution_count": null,
   "metadata": {},
   "outputs": [],
   "source": [
    "# Решение\n",
    "from xml.etree import ElementTree as ET\n",
    "\n",
    "def depth(tree, k=2):\n",
    "    for element in tree:\n",
    "        color_scores[element.attrib['color']] += k\n",
    "        depth(element, k+1)\n",
    "        \n",
    "xml_text = input()\n",
    "root = ET.fromstring(xml_text)\n",
    "\n",
    "color_scores = {\n",
    "    'red': 0,\n",
    "    'green': 0,\n",
    "    'blue': 0\n",
    "}\n",
    "\n",
    "color_scores[root.attrib['color']] +=1\n",
    "depth(root)\n",
    "\n",
    "[print(i, end=' ') for i in color_scores.values()]"
   ]
  }
 ],
 "metadata": {
  "kernelspec": {
   "display_name": "Python 3.8.5 64-bit",
   "language": "python",
   "name": "python38564bitaf0bb5075d664e98af35ce1e7d7bf570"
  },
  "language_info": {
   "codemirror_mode": {
    "name": "ipython",
    "version": 3
   },
   "file_extension": ".py",
   "mimetype": "text/x-python",
   "name": "python",
   "nbconvert_exporter": "python",
   "pygments_lexer": "ipython3",
   "version": "3.8.5"
  }
 },
 "nbformat": 4,
 "nbformat_minor": 4
}
