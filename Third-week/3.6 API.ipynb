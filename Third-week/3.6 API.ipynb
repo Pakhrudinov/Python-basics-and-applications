{
 "cells": [
  {
   "cell_type": "markdown",
   "metadata": {},
   "source": [
    "# 3.6 API"
   ]
  },
  {
   "cell_type": "markdown",
   "metadata": {},
   "source": [
    "__API__ (программный интерфейс приложения, интерфейс прикладного программирования) (англ. application programming interface, API — описание способов (набор классов, процедур, функций, структур или констант), которыми одна компьютерная программа может взаимодействовать с другой программой."
   ]
  },
  {
   "cell_type": "markdown",
   "metadata": {},
   "source": [
    "# Не благодарите)\n",
    "﻿\n",
    "﻿“Основы программирования на Python” – от факультета компьютерных наук высшей школы экономики:\n",
    "https://www.coursera.org/learn/python-osnovy-programmirovaniya\n",
    "\n",
    "“Специализация Программирование на Python” – 4 курса от mail.ru, мфти и “Фонда развития онлайн-образования”:\n",
    "https://www.coursera.org/specializations/programming-in-python\n",
    "\n",
    "Набор задачек по Python:\n",
    "https://stepik.org/course/431\n",
    "\n",
    "Курс по Python и Django от FreeCodeCamp.org:\n",
    "https://www.youtube.com/watch?v=F5mRW0jo-U4\n",
    "\n",
    "Свежий курс \"Complete Programming Tutorial for Beginners\":\n",
    "https://www.youtube.com/watch?v=_uQrJ0TkZlc"
   ]
  },
  {
   "cell_type": "markdown",
   "metadata": {},
   "source": [
    "## Делали то что сложно законспетировать"
   ]
  },
  {
   "cell_type": "code",
   "execution_count": 1,
   "metadata": {
    "scrolled": false
   },
   "outputs": [
    {
     "name": "stdout",
     "output_type": "stream",
     "text": [
      "City? Moscow\n",
      "Current temperature in Moscow is 1.27\n"
     ]
    }
   ],
   "source": [
    "import requests\n",
    "\n",
    "api_url = 'http://api.openweathermap.org/data/2.5/weather'\n",
    "\n",
    "city = input('City? ')\n",
    "\n",
    "params = {\n",
    "    'q': city,\n",
    "    'appid': '11c0d3dc6093f7442898ee49d2430d20',\n",
    "    'units': 'metric'\n",
    "}\n",
    "\n",
    "response = requests.get(api_url, params=params)\n",
    "\n",
    "# print(response.status_code)\n",
    "# print(response.headers['Content-Type'])\n",
    "# print(response.json())     # json.loads(response.text)\n",
    "\n",
    "data = response.json()\n",
    "print(f'Current temperature in {city} is {data[\"main\"][\"temp\"]}')\n",
    "#print(data['main']['temp'])"
   ]
  },
  {
   "cell_type": "markdown",
   "metadata": {},
   "source": [
    "# ------------------------------------------"
   ]
  },
  {
   "cell_type": "markdown",
   "metadata": {},
   "source": [
    "# Задачи"
   ]
  },
  {
   "cell_type": "markdown",
   "metadata": {},
   "source": [
    "Услоиве 1\n",
    "https://stepik.org/lesson/24476/step/3?thread=solutions&unit=6781"
   ]
  },
  {
   "cell_type": "code",
   "execution_count": null,
   "metadata": {},
   "outputs": [],
   "source": [
    "# Мое решение\n",
    "import requests\n",
    "import sys\n",
    "\n",
    "url = 'http://numbersapi.com/{}/math'\n",
    "\n",
    "params ={\n",
    "    'json': 'true'\n",
    "}\n",
    "for n in sys.stdin:\n",
    "    response = requests.get(url.format(n.rstrip()), params=params)\n",
    "    if response.json()['found']:\n",
    "        print('Interesting')\n",
    "    else:\n",
    "        print('Boring')"
   ]
  },
  {
   "cell_type": "code",
   "execution_count": null,
   "metadata": {},
   "outputs": [],
   "source": [
    "# Решение автора\n",
    "import requests\n",
    "import json\n",
    "\n",
    "def is_interesting(x):\n",
    "    url = \"http://numbersapi.com/\"; + str(x) + \"/math?json=true\"\n",
    "    resp = requests.get(url).text\n",
    "    js = json.loads(resp)\n",
    "    return js[\"found\"]\n",
    "\n",
    "with open(\"input.txt\") as fi:\n",
    "    for line in fi:\n",
    "        print(\"Interesting\" if is_interesting(line.rstrip()) else \"Boring\")"
   ]
  },
  {
   "cell_type": "markdown",
   "metadata": {},
   "source": [
    "Условие 2 https://stepik.org/lesson/24476/step/4?unit=6781"
   ]
  },
  {
   "cell_type": "code",
   "execution_count": null,
   "metadata": {},
   "outputs": [],
   "source": [
    "# Мое решенение\n",
    "import requests\n",
    "import json\n",
    "\n",
    "url = 'https://api.artsy.net/api'\n",
    "client_id = '6396099d496a4335de04'\n",
    "client_secret = 'bea656e7583d90097f8ecc70cab108e4'\n",
    "\n",
    "id_post = requests.post(\n",
    "    url+'/tokens/xapp_token',\n",
    "    data={\n",
    "        'client_id': client_id,\n",
    "        'client_secret': client_secret\n",
    "    }\n",
    ")\n",
    "\n",
    "token = json.loads(id_post.text)['token']\n",
    "\n",
    "list_artists = []\n",
    "\n",
    "for id in open('/home/saygid/Загрузки/dataset_24476_4.txt'):\n",
    "    get_on_link = requests.get(\n",
    "        url+f'/artists/{id.rstrip()}',\n",
    "        headers={\n",
    "            'X-Xapp-Token': token\n",
    "        },\n",
    "        timeout=1\n",
    "    )\n",
    "    get_on_link = json.loads(get_on_link.text)\n",
    "    list_artists.append([get_on_link['sortable_name'], get_on_link['birthday']])\n",
    "\n",
    "[print(i[0]) for i in sorted(list_artists, key=lambda x:int(x[1]))]"
   ]
  },
  {
   "cell_type": "code",
   "execution_count": null,
   "metadata": {},
   "outputs": [],
   "source": [
    "# Решение автора\n",
    "import requests\n",
    "import json\n",
    "\n",
    "# put your id and secret here\n",
    "client_id = '...'\n",
    "client_secret = '...'\n",
    "\n",
    "resp = requests.post(\"https://api.artsy.net/api/tokens/xapp_token\";, data={\"client_id\" : client_id, \"client_secret\" : client_secret}).text\n",
    "token = json.loads(resp)[\"token\"]\n",
    "\n",
    "def get_json(url):\n",
    "    headers = {\"X-Xapp-Token\" : token}\n",
    "    resp = requests.get(url, headers=headers).text\n",
    "    return json.loads(resp)\n",
    "\n",
    "ans = []\n",
    "\n",
    "with open(\"input.txt\") as inp:\n",
    "    for id in inp:\n",
    "        id = id.rstrip()\n",
    "        js = get_json(\"https://api.artsy.net/api/artists/\"; + id)\n",
    "        ans.append((js[\"birthday\"], js[\"sortable_name\"]))\n",
    "\n",
    "ans.sort(key=lambda x: (int(x[0]), x[1]))\n",
    "﻿\n",
    "print(\"\\n\".join(map(lambda x: x[1], ans)))"
   ]
  }
 ],
 "metadata": {
  "kernelspec": {
   "display_name": "Python 3.8.5 64-bit",
   "language": "python",
   "name": "python38564bitaf0bb5075d664e98af35ce1e7d7bf570"
  },
  "language_info": {
   "codemirror_mode": {
    "name": "ipython",
    "version": 3
   },
   "file_extension": ".py",
   "mimetype": "text/x-python",
   "name": "python",
   "nbconvert_exporter": "python",
   "pygments_lexer": "ipython3",
   "version": "3.8.5"
  }
 },
 "nbformat": 4,
 "nbformat_minor": 4
}
