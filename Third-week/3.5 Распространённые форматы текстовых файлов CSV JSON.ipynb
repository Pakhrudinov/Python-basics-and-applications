{
 "cells": [
  {
   "cell_type": "markdown",
   "metadata": {},
   "source": [
    "# 3.5 Распространённые форматы текстовых файлов: CSV, JSON"
   ]
  },
  {
   "cell_type": "markdown",
   "metadata": {},
   "source": [
    "## .csv"
   ]
  },
  {
   "cell_type": "markdown",
   "metadata": {},
   "source": [
    "формат csv очень удобен для преставление таблиц"
   ]
  },
  {
   "cell_type": "markdown",
   "metadata": {},
   "source": [
    "__csvtext.csv__\n",
    "\n",
    "first name, last name, module1, module2, module3\n",
    "\n",
    "student, best, 100, 100, 100\n",
    "\n",
    "student, good, 90, 90.2, 100"
   ]
  },
  {
   "cell_type": "code",
   "execution_count": 2,
   "metadata": {
    "scrolled": false
   },
   "outputs": [
    {
     "name": "stdout",
     "output_type": "stream",
     "text": [
      "['first name', ' last name', ' module1', ' module2', ' module3']\n",
      "['student', ' best', ' 100', ' 100', ' 100']\n",
      "['student', ' good', ' 90', ' 90.2', ' 100']\n"
     ]
    }
   ],
   "source": [
    "import csv\n",
    "\n",
    "with open('csvtext.csv') as f:\n",
    "    reader = csv.reader(f)      #считаваем csv формат\n",
    "    for row in reader:\n",
    "        print(row)"
   ]
  },
  {
   "cell_type": "markdown",
   "metadata": {},
   "source": [
    "csvtext2.csv\n",
    "\n",
    "first name, last name, module1, module2, module3\n",
    "\n",
    "student, best, 100, 100, 100\n",
    "\n",
    "student, good, 90, 90.2, 100"
   ]
  },
  {
   "cell_type": "code",
   "execution_count": 6,
   "metadata": {
    "scrolled": true
   },
   "outputs": [
    {
     "name": "stdout",
     "output_type": "stream",
     "text": [
      "['first name', 'last name', 'module1', 'module2', 'module3']\n",
      "['student', 'best', '100', '100', '100']\n",
      "['student', 'good', '90', '90,2', '100']\n"
     ]
    }
   ],
   "source": [
    "import csv\n",
    "\n",
    "with open('csvtext2.csv') as f:   #изолировали 90,2  с помощью \"\"(преимущество split(','))\n",
    "    reader = csv.reader(f)      #считаваем csv формат\n",
    "    for row in reader:\n",
    "        print(row)"
   ]
  },
  {
   "cell_type": "markdown",
   "metadata": {},
   "source": [
    " короче чанда это походу, если пригодится загуглю))"
   ]
  },
  {
   "cell_type": "markdown",
   "metadata": {},
   "source": [
    "csv очень простой текстовый формать для табличных данных"
   ]
  },
  {
   "cell_type": "markdown",
   "metadata": {},
   "source": [
    "# Задача по csv"
   ]
  },
  {
   "cell_type": "markdown",
   "metadata": {},
   "source": [
    "Условие\n",
    "https://stepik.org/lesson/24473/step/2?thread=solutions&unit=6777"
   ]
  },
  {
   "cell_type": "code",
   "execution_count": null,
   "metadata": {},
   "outputs": [],
   "source": [
    "# Мое решение\n",
    "import csv\n",
    "\n",
    "type2015 = []\n",
    "with open(\"/home/saygid/Загрузки/Crimes.csv\") as f:\n",
    "    reader = csv.reader(f)\n",
    "    for i in reader:\n",
    "        if i[2][6:10] == '2015':\n",
    "            type2015.append(i[5])\n",
    "maxa=[0, '']\n",
    "for i in set(type2015):\n",
    "    if type2015.count(i)>maxa[0]:\n",
    "        maxa[0] = type2015.count(i)\n",
    "        maxa[1] = i\n",
    "\n",
    "print(maxa)"
   ]
  },
  {
   "cell_type": "markdown",
   "metadata": {},
   "source": [
    "#  JSON"
   ]
  },
  {
   "cell_type": "markdown",
   "metadata": {},
   "source": [
    "JSON -  натачия объектов языка javascript(он раньше использовался для описания объектов языка javascript, сейчас это отдельный текстовый формат которым пользуются много приложений)"
   ]
  },
  {
   "cell_type": "markdown",
   "metadata": {},
   "source": [
    "объекты в javascript(JSON) хранятся в словаре(ключ : значение) очень похоже на словари в  python "
   ]
  },
  {
   "cell_type": "markdown",
   "metadata": {},
   "source": [
    "отличия JSON:\n",
    "    ключом может быть только сторка\n",
    "    значения true false пишутся с маленькой буквы\n",
    "    None - null\n",
    "и не смотря на это каждой сущности в JSON сущетсвует аналог в Python(поэтому нам очень удобно пользоватся данным форматом)"
   ]
  },
  {
   "cell_type": "markdown",
   "metadata": {},
   "source": [
    " ## import json"
   ]
  },
  {
   "cell_type": "markdown",
   "metadata": {},
   "source": [
    "## json.dump/dumps"
   ]
  },
  {
   "cell_type": "code",
   "execution_count": 9,
   "metadata": {
    "scrolled": true
   },
   "outputs": [
    {
     "name": "stdout",
     "output_type": "stream",
     "text": [
      "[\n",
      "    {\n",
      "        \"certificate\": true,\n",
      "        \"description\": \"Good job, Greg\",\n",
      "        \"first name\": \"Greg\",\n",
      "        \"last name\": \"Dean\",\n",
      "        \"scores\": [\n",
      "            70,\n",
      "            80,\n",
      "            90\n",
      "        ]\n",
      "    },\n",
      "    {\n",
      "        \"certificate\": true,\n",
      "        \"description\": \"Necily Done\",\n",
      "        \"first name\": \"Wirth\",\n",
      "        \"last name\": \"Wood\",\n",
      "        \"scores\": [\n",
      "            80,\n",
      "            80.2,\n",
      "            80\n",
      "        ]\n",
      "    }\n",
      "]\n"
     ]
    }
   ],
   "source": [
    "import json\n",
    "\n",
    "student1 = {\n",
    "    'first name': 'Greg',\n",
    "    'last name': 'Dean',\n",
    "    'scores': [70, 80, 90],\n",
    "    'description': 'Good job, Greg',\n",
    "    'certificate': True\n",
    "}\n",
    "\n",
    "student2 = {\n",
    "    'first name': 'Wirth',\n",
    "    'last name': 'Wood',\n",
    "    'scores': [80, 80.2, 80],\n",
    "    'description': 'Necily Done',\n",
    "    'certificate': True\n",
    "}\n",
    "\n",
    "data = [student1, student2]\n",
    "#  функция dumps, Python объект, indent-количесвто отступов, sort_keays=True  сортировка ключей \n",
    "print(json.dumps(data, indent=4, sort_keys=True))  # Выводим на экран код преобразованный в json"
   ]
  },
  {
   "cell_type": "code",
   "execution_count": 10,
   "metadata": {},
   "outputs": [],
   "source": [
    "import json\n",
    "\n",
    "student1 = {\n",
    "    'first name': 'Greg',\n",
    "    'last name': 'Dean',\n",
    "    'scores': [70, 80, 90],\n",
    "    'description': 'Good job, Greg',\n",
    "    'certificate': True\n",
    "}\n",
    "\n",
    "student2 = {\n",
    "    'first name': 'Wirth',\n",
    "    'last name': 'Wood',\n",
    "    'scores': [80, 80.2, 80],\n",
    "    'description': 'Necily Done',\n",
    "    'certificate': True\n",
    "}\n",
    "\n",
    "data = [student1, student2]\n",
    "\n",
    "with open('students.json', 'w') as f:\n",
    "    json.dump(data, f, indent=4, sort_keys=True) # для записи используется функция dump"
   ]
  },
  {
   "cell_type": "markdown",
   "metadata": {},
   "source": [
    "## json.loads/load"
   ]
  },
  {
   "cell_type": "code",
   "execution_count": 7,
   "metadata": {
    "scrolled": true
   },
   "outputs": [
    {
     "name": "stdout",
     "output_type": "stream",
     "text": [
      "[{'certificate': True, 'description': 'Good job, Greg', 'first name': 'Greg', 'last name': 'Dean', 'scores': [70, 80, 90]}, {'certificate': True, 'description': 'Necily Done', 'first name': 'Wirth', 'last name': 'Wood', 'scores': [80, 80.2, 90]}]\n",
      "240\n"
     ]
    }
   ],
   "source": [
    "import json\n",
    "\n",
    "student1 = {\n",
    "    'first name': 'Greg',\n",
    "    'last name': 'Dean',\n",
    "    'scores': [70, 80, 90],\n",
    "    'description': 'Good job, Greg',\n",
    "    'certificate': True\n",
    "}\n",
    "\n",
    "student2 = {\n",
    "    'first name': 'Wirth',\n",
    "    'last name': 'Wood',\n",
    "    'scores': [80, 80.2, 80],\n",
    "    'description': 'Necily Done',\n",
    "    'certificate': True\n",
    "}\n",
    "\n",
    "data = [student1, student2]\n",
    "data_json = json.dumps(data, indent=4, sort_keys=True)\n",
    "data_again = json.loads(data_json)  # преобразуем json код в Python объект\n",
    "print(data_again)\n",
    "print(sum(data_again[0]['scores']))\n"
   ]
  },
  {
   "cell_type": "code",
   "execution_count": 11,
   "metadata": {
    "scrolled": true
   },
   "outputs": [
    {
     "name": "stdout",
     "output_type": "stream",
     "text": [
      "240.2\n"
     ]
    }
   ],
   "source": [
    "with open('students.json', 'r') as f:  #чтение из файла json\n",
    "    data_again = json.load(f)\n",
    "print(sum(data_again[1]['scores']))"
   ]
  },
  {
   "cell_type": "markdown",
   "metadata": {},
   "source": [
    "# Задача по json"
   ]
  },
  {
   "cell_type": "markdown",
   "metadata": {},
   "source": [
    "Условие \n",
    "https://stepik.org/lesson/24473/step/4?unit=6777"
   ]
  },
  {
   "cell_type": "code",
   "execution_count": null,
   "metadata": {},
   "outputs": [],
   "source": [
    "# мое решение\n",
    "import json\n",
    "\n",
    "json_text = json.loads(input())\n",
    "\n",
    "\n",
    " #  Добавляем предков не упомянутых в инпуте\n",
    "name = set()\n",
    "[name.update([i['name'], *i['parents']]) for i in json_text]\n",
    "for i in name:\n",
    "    i_bool = False\n",
    "    for j in list(json_text):\n",
    "        if i == j['name']:\n",
    "            i_bool = True\n",
    "    if not i_bool:\n",
    "        json_text.append({'name': i, 'parents': []})\n",
    "\n",
    "#избавляемся от не нужного\n",
    "otec = {}\n",
    "for i in name:\n",
    "    if i not in otec:\n",
    "        otec[i] = []\n",
    "    for j in json_text:\n",
    "        if j['name'] == i:\n",
    "            otec[i] += j['parents']\n",
    "\n",
    "# Добавляем предков наших предков\n",
    "for i in otec:\n",
    "    for j in otec[i]:\n",
    "        otec[i] += otec[j]\n",
    "\n",
    "# убираем одинаковых отцов\n",
    "for i in otec:\n",
    "    otec[i] = list(set(otec[i]))\n",
    "\n",
    "# узанем сколько у нас детей\n",
    "end_v = {i:1 for i in name}\n",
    "for i in name:\n",
    "    for j in otec.values():\n",
    "        if i in j:\n",
    "            end_v[i] += 1\n",
    "\n",
    "# Вывод\n",
    "for i in sorted(end_v.keys()):\n",
    "    print('{} : {}'.format(i, end_v[i]))"
   ]
  }
 ],
 "metadata": {
  "kernelspec": {
   "display_name": "Python 3.8.5 64-bit",
   "language": "python",
   "name": "python38564bitaf0bb5075d664e98af35ce1e7d7bf570"
  },
  "language_info": {
   "codemirror_mode": {
    "name": "ipython",
    "version": 3
   },
   "file_extension": ".py",
   "mimetype": "text/x-python",
   "name": "python",
   "nbconvert_exporter": "python",
   "pygments_lexer": "ipython3",
   "version": "3.8.5"
  }
 },
 "nbformat": 4,
 "nbformat_minor": 4
}
