{
 "cells": [
  {
   "cell_type": "markdown",
   "metadata": {},
   "source": [
    "# 3.5 Распространённые форматы текстовых файлов: CSV, JSON"
   ]
  },
  {
   "cell_type": "markdown",
   "metadata": {},
   "source": [
    "## .csv"
   ]
  },
  {
   "cell_type": "markdown",
   "metadata": {},
   "source": [
    "формат csv очень удобен для преставление таблиц"
   ]
  },
  {
   "cell_type": "markdown",
   "metadata": {},
   "source": [
    "__csvtext.csv__\n",
    "\n",
    "first name, last name, module1, module2, module3\n",
    "\n",
    "student, best, 100, 100, 100\n",
    "\n",
    "student, good, 90, 90.2, 100"
   ]
  },
  {
   "cell_type": "code",
   "execution_count": 2,
   "metadata": {
    "scrolled": false
   },
   "outputs": [
    {
     "name": "stdout",
     "output_type": "stream",
     "text": [
      "['first name', ' last name', ' module1', ' module2', ' module3']\n",
      "['student', ' best', ' 100', ' 100', ' 100']\n",
      "['student', ' good', ' 90', ' 90.2', ' 100']\n"
     ]
    }
   ],
   "source": [
    "import csv\n",
    "\n",
    "with open('csvtext.csv') as f:\n",
    "    reader = csv.reader(f)      #считаваем csv формат\n",
    "    for row in reader:\n",
    "        print(row)"
   ]
  },
  {
   "cell_type": "markdown",
   "metadata": {},
   "source": [
    "csvtext2.csv\n",
    "\n",
    "first name, last name, module1, module2, module3\n",
    "\n",
    "student, best, 100, 100, 100\n",
    "\n",
    "student, good, 90, 90.2, 100"
   ]
  },
  {
   "cell_type": "code",
   "execution_count": 6,
   "metadata": {
    "scrolled": true
   },
   "outputs": [
    {
     "name": "stdout",
     "output_type": "stream",
     "text": [
      "['first name', 'last name', 'module1', 'module2', 'module3']\n",
      "['student', 'best', '100', '100', '100']\n",
      "['student', 'good', '90', '90,2', '100']\n"
     ]
    }
   ],
   "source": [
    "import csv\n",
    "\n",
    "with open('csvtext2.csv') as f:   #изолировали 90,2  с помощью \"\"(преимущество split(','))\n",
    "    reader = csv.reader(f)      #считаваем csv формат\n",
    "    for row in reader:\n",
    "        print(row)"
   ]
  },
  {
   "cell_type": "markdown",
   "metadata": {},
   "source": [
    " короче чанда это походу, если пригодится загуглю))"
   ]
  },
  {
   "cell_type": "markdown",
   "metadata": {},
   "source": [
    "csv очень простой текстовый формать для табличных данных"
   ]
  },
  {
   "cell_type": "markdown",
   "metadata": {},
   "source": [
    "# Задача по csv"
   ]
  },
  {
   "cell_type": "markdown",
   "metadata": {},
   "source": [
    "Условие\n",
    "https://stepik.org/lesson/24473/step/2?thread=solutions&unit=6777"
   ]
  },
  {
   "cell_type": "code",
   "execution_count": null,
   "metadata": {},
   "outputs": [],
   "source": [
    "# Мое решение\n",
    "import csv\n",
    "\n",
    "type2015 = []\n",
    "with open(\"/home/saygid/Загрузки/Crimes.csv\") as f:\n",
    "    reader = csv.reader(f)\n",
    "    for i in reader:\n",
    "        if i[2][6:10] == '2015':\n",
    "            type2015.append(i[5])\n",
    "maxa=[0, '']\n",
    "for i in set(type2015):\n",
    "    if type2015.count(i)>maxa[0]:\n",
    "        maxa[0] = type2015.count(i)\n",
    "        maxa[1] = i\n",
    "\n",
    "print(maxa)"
   ]
  }
 ],
 "metadata": {
  "kernelspec": {
   "display_name": "Python 3.8.5 64-bit",
   "language": "python",
   "name": "python38564bitaf0bb5075d664e98af35ce1e7d7bf570"
  },
  "language_info": {
   "codemirror_mode": {
    "name": "ipython",
    "version": 3
   },
   "file_extension": ".py",
   "mimetype": "text/x-python",
   "name": "python",
   "nbconvert_exporter": "python",
   "pygments_lexer": "ipython3",
   "version": "3.8.5"
  }
 },
 "nbformat": 4,
 "nbformat_minor": 4
}
