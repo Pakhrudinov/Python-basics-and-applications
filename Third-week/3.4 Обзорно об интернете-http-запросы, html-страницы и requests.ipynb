{
 "cells": [
  {
   "cell_type": "markdown",
   "metadata": {},
   "source": [
    "# 3.4 Обзорно об интернете: http-запросы, html-страницы и requests"
   ]
  },
  {
   "cell_type": "markdown",
   "metadata": {},
   "source": [
    "## HTTP - протокол обмена гипертекста"
   ]
  },
  {
   "cell_type": "markdown",
   "metadata": {},
   "source": [
    "Гипертекст - это совокупность документов, содержащих текстовую, аудиои видеоинформацию, связанных между собой взаимными ссылками в единый текст.(текстовый документ который содержит в себегиперсылки на другие текстовые документы)"
   ]
  },
  {
   "cell_type": "markdown",
   "metadata": {},
   "source": [
    "HTTP протокол \n",
    "У нас есть две стороны которые учавствуют в общении 1.клиент(пользователи) 2.сервер(на который мы делаем запрос)\n",
    "\n",
    "__КЛИЕНТ_______________|_________ __СЕРВЕР__\n",
    "\n",
    "       заспрос\n",
    "\n",
    "      --------------->\n",
    "\n",
    "     <----------------\n",
    "\n",
    "         ответ\n",
    "                 \n"
   ]
  },
  {
   "cell_type": "markdown",
   "metadata": {},
   "source": [
    "Мы запрашиваем у нашего сервера ресурсы(web страницы итд)\n",
    "\n",
    "Рессурсы описывают в интернете при помощи URL"
   ]
  },
  {
   "cell_type": "markdown",
   "metadata": {},
   "source": [
    "__URL__(ссылка) - это  единообразный определитель местонахождения ресурса (файла)"
   ]
  },
  {
   "cell_type": "markdown",
   "metadata": {},
   "source": [
    "                 __URL__\n",
    "                 \n",
    "  http://stepik.org/512\n",
    "  \n",
    "  http: - протокол\n",
    "  \n",
    "  //stepik.org - домен, хост(сервер)\n",
    "  \n",
    "  /512 - путь до ресурса\n",
    "                "
   ]
  },
  {
   "cell_type": "markdown",
   "metadata": {},
   "source": [
    "чуть позже дополню про http и url"
   ]
  },
  {
   "cell_type": "markdown",
   "metadata": {},
   "source": [
    "## Библиотка reguests"
   ]
  },
  {
   "cell_type": "code",
   "execution_count": 1,
   "metadata": {
    "scrolled": true
   },
   "outputs": [
    {
     "name": "stdout",
     "output_type": "stream",
     "text": [
      "200\n",
      "text/html\n",
      "b'\\n<!DOCTYPE html>\\n\\n<html xmlns=\"http://www.w3.org/1999/xhtml\">\\n  <head>\\n    <meta charset=\"utf-8\" /><title>3.9.0 Documentation</title>\\n    <link rel=\"stylesheet\" href=\"_static/pydoctheme.css\" type=\"text/css\" />\\n    <link rel=\"stylesheet\" href=\"_static/pygments.css\" type=\"text/css\" />\\n    \\n    <script id=\"documentation_options\" data-url_root=\"./\" src=\"_static/documentation_options.js\"></script>\\n    <script src=\"_static/jquery.js\"></script>\\n    <script src=\"_static/underscore.js\"></script>\\n    <script src=\"_static/doctools.js\"></script>\\n    <script src=\"_static/language_data.js\"></script>\\n    \\n    <script src=\"_static/sidebar.js\"></script>\\n    \\n    <link rel=\"search\" type=\"application/opensearchdescription+xml\"\\n          title=\"Search within Python 3.9.0 documentation\"\\n          href=\"_static/opensearch.xml\"/>\\n    <link rel=\"author\" title=\"About these documents\" href=\"about.html\" />\\n    <link rel=\"index\" title=\"Index\" href=\"genindex.html\" />\\n    <link rel=\"search\" title=\"Search\" href=\"search.html\" />\\n    <link rel=\"copyright\" title=\"Copyright\" href=\"copyright.html\" />\\n    <link rel=\"canonical\" href=\"https://docs.python.org/3/index.html\" />\\n    \\n      \\n      \\n    \\n\\n    \\n    <style>\\n      @media only screen {\\n        table.full-width-table {\\n            width: 100%;\\n        }\\n      }\\n    </style>\\n\\n    <link rel=\"shortcut icon\" type=\"image/png\" href=\"_static/py.png\" />\\n    \\n    <script type=\"text/javascript\" src=\"_static/copybutton.js\"></script>\\n    \\n     \\n\\n\\n  </head><body>\\n  \\n    <div class=\"related\" role=\"navigation\" aria-label=\"related navigation\">\\n      <h3>Navigation</h3>\\n      <ul>\\n        <li class=\"right\" style=\"margin-right: 10px\">\\n          <a href=\"genindex.html\" title=\"General Index\"\\n             accesskey=\"I\">index</a></li>\\n        <li class=\"right\" >\\n          <a href=\"py-modindex.html\" title=\"Python Module Index\"\\n             >modules</a> |</li>\\n\\n    <li><img src=\"_static/py.png\" alt=\"\"\\n             style=\"vertical-align: middle; margin-top: -1px\"/></li>\\n    <li><a href=\"https://www.python.org/\">Python</a> &#187;</li>\\n    \\n\\n    <li>\\n      <a href=\"#\">3.9.0 Documentation</a> &#187;\\n    </li>\\n\\n    <li class=\"right\">\\n        \\n\\n    <div class=\"inline-search\" style=\"display: none\" role=\"search\">\\n        <form class=\"inline-search\" action=\"search.html\" method=\"get\">\\n          <input placeholder=\"Quick search\" type=\"text\" name=\"q\" />\\n          <input type=\"submit\" value=\"Go\" />\\n          <input type=\"hidden\" name=\"check_keywords\" value=\"yes\" />\\n          <input type=\"hidden\" name=\"area\" value=\"default\" />\\n        </form>\\n    </div>\\n    <script type=\"text/javascript\">$(\\'.inline-search\\').show(0);</script>\\n         |\\n    </li>\\n\\n      </ul>\\n    </div>    \\n\\n    <div class=\"document\">\\n      <div class=\"documentwrapper\">\\n        <div class=\"bodywrapper\">\\n          <div class=\"body\" role=\"main\">\\n            \\n  <h1>Python 3.9.0 documentation</h1>\\n  <p>\\n  Welcome! This is the documentation for Python 3.9.0.\\n  </p>\\n  <p><strong>Parts of the documentation:</strong></p>\\n  <table class=\"contentstable\" align=\"center\"><tr>\\n    <td width=\"50%\">\\n      <p class=\"biglink\"><a class=\"biglink\" href=\"whatsnew/3.9.html\">What\\'s new in Python 3.9?</a><br/>\\n        <span class=\"linkdescr\"> or <a href=\"whatsnew/index.html\">all \"What\\'s new\" documents</a> since 2.0</span></p>\\n      <p class=\"biglink\"><a class=\"biglink\" href=\"tutorial/index.html\">Tutorial</a><br/>\\n         <span class=\"linkdescr\">start here</span></p>\\n      <p class=\"biglink\"><a class=\"biglink\" href=\"library/index.html\">Library Reference</a><br/>\\n         <span class=\"linkdescr\">keep this under your pillow</span></p>\\n      <p class=\"biglink\"><a class=\"biglink\" href=\"reference/index.html\">Language Reference</a><br/>\\n         <span class=\"linkdescr\">describes syntax and language elements</span></p>\\n      <p class=\"biglink\"><a class=\"biglink\" href=\"using/index.html\">Python Setup and Usage</a><br/>\\n         <span class=\"linkdescr\">how to use Python on different platforms</span></p>\\n      <p class=\"biglink\"><a class=\"biglink\" href=\"howto/index.html\">Python HOWTOs</a><br/>\\n         <span class=\"linkdescr\">in-depth documents on specific topics</span></p>\\n    </td><td width=\"50%\">\\n      <p class=\"biglink\"><a class=\"biglink\" href=\"installing/index.html\">Installing Python Modules</a><br/>\\n         <span class=\"linkdescr\">installing from the Python Package Index &amp; other sources</span></p>\\n      <p class=\"biglink\"><a class=\"biglink\" href=\"distributing/index.html\">Distributing Python Modules</a><br/>\\n         <span class=\"linkdescr\">publishing modules for installation by others</span></p>\\n      <p class=\"biglink\"><a class=\"biglink\" href=\"extending/index.html\">Extending and Embedding</a><br/>\\n         <span class=\"linkdescr\">tutorial for C/C++ programmers</span></p>\\n      <p class=\"biglink\"><a class=\"biglink\" href=\"c-api/index.html\">Python/C API</a><br/>\\n         <span class=\"linkdescr\">reference for C/C++ programmers</span></p>\\n      <p class=\"biglink\"><a class=\"biglink\" href=\"faq/index.html\">FAQs</a><br/>\\n         <span class=\"linkdescr\">frequently asked questions (with answers!)</span></p>\\n    </td></tr>\\n  </table>\\n\\n  <p><strong>Indices and tables:</strong></p>\\n  <table class=\"contentstable\" align=\"center\"><tr>\\n    <td width=\"50%\">\\n      <p class=\"biglink\"><a class=\"biglink\" href=\"py-modindex.html\">Global Module Index</a><br/>\\n         <span class=\"linkdescr\">quick access to all modules</span></p>\\n      <p class=\"biglink\"><a class=\"biglink\" href=\"genindex.html\">General Index</a><br/>\\n         <span class=\"linkdescr\">all functions, classes, terms</span></p>\\n      <p class=\"biglink\"><a class=\"biglink\" href=\"glossary.html\">Glossary</a><br/>\\n         <span class=\"linkdescr\">the most important terms explained</span></p>\\n    </td><td width=\"50%\">\\n      <p class=\"biglink\"><a class=\"biglink\" href=\"search.html\">Search page</a><br/>\\n         <span class=\"linkdescr\">search this documentation</span></p>\\n      <p class=\"biglink\"><a class=\"biglink\" href=\"contents.html\">Complete Table of Contents</a><br/>\\n         <span class=\"linkdescr\">lists all sections and subsections</span></p>\\n    </td></tr>\\n  </table>\\n\\n  <p><strong>Meta information:</strong></p>\\n  <table class=\"contentstable\" align=\"center\"><tr>\\n    <td width=\"50%\">\\n      <p class=\"biglink\"><a class=\"biglink\" href=\"bugs.html\">Reporting bugs</a></p>\\n      <p class=\"biglink\"><a class=\"biglink\" href=\"https://devguide.python.org/docquality/#helping-with-documentation\">Contributing to Docs</a></p>\\n      <p class=\"biglink\"><a class=\"biglink\" href=\"about.html\">About the documentation</a></p>\\n    </td><td width=\"50%\">\\n      <p class=\"biglink\"><a class=\"biglink\" href=\"license.html\">History and License of Python</a></p>\\n      <p class=\"biglink\"><a class=\"biglink\" href=\"copyright.html\">Copyright</a></p>\\n    </td></tr>\\n  </table>\\n\\n          </div>\\n        </div>\\n      </div>\\n      <div class=\"sphinxsidebar\" role=\"navigation\" aria-label=\"main navigation\">\\n        <div class=\"sphinxsidebarwrapper\"><h3>Download</h3>\\n<p><a href=\"download.html\">Download these documents</a></p>\\n<h3>Docs by version</h3>\\n<ul>\\n  <li><a href=\"https://docs.python.org/3.10/\">Python 3.10 (in development)</a></li>\\n<li><a href=\"https://docs.python.org/3.9/\">Python 3.9 (stable)</a></li>\\n<li><a href=\"https://docs.python.org/3.8/\">Python 3.8 (stable)</a></li>\\n<li><a href=\"https://docs.python.org/3.7/\">Python 3.7 (security-fixes)</a></li>\\n<li><a href=\"https://docs.python.org/3.6/\">Python 3.6 (security-fixes)</a></li>\\n<li><a href=\"https://docs.python.org/3.5/\">Python 3.5 (security-fixes)</a></li>\\n<li><a href=\"https://docs.python.org/2.7/\">Python 2.7 (EOL)</a></li>\\n  <li><a href=\"https://www.python.org/doc/versions/\">All versions</a></li>\\n</ul>\\n\\n<h3>Other resources</h3>\\n<ul>\\n  \\n  <li><a href=\"https://www.python.org/dev/peps/\">PEP Index</a></li>\\n  <li><a href=\"https://wiki.python.org/moin/BeginnersGuide\">Beginner\\'s Guide</a></li>\\n  <li><a href=\"https://wiki.python.org/moin/PythonBooks\">Book List</a></li>\\n  <li><a href=\"https://www.python.org/doc/av/\">Audio/Visual Talks</a></li>\\n  <li><a href=\"https://devguide.python.org/\">Python Developer\\xe2\\x80\\x99s Guide</a></li>\\n</ul>\\n        </div>\\n      </div>\\n      <div class=\"clearer\"></div>\\n    </div>  \\n    <div class=\"related\" role=\"navigation\" aria-label=\"related navigation\">\\n      <h3>Navigation</h3>\\n      <ul>\\n        <li class=\"right\" style=\"margin-right: 10px\">\\n          <a href=\"genindex.html\" title=\"General Index\"\\n             >index</a></li>\\n        <li class=\"right\" >\\n          <a href=\"py-modindex.html\" title=\"Python Module Index\"\\n             >modules</a> |</li>\\n\\n    <li><img src=\"_static/py.png\" alt=\"\"\\n             style=\"vertical-align: middle; margin-top: -1px\"/></li>\\n    <li><a href=\"https://www.python.org/\">Python</a> &#187;</li>\\n    \\n\\n    <li>\\n      <a href=\"#\">3.9.0 Documentation</a> &#187;\\n    </li>\\n\\n    <li class=\"right\">\\n        \\n\\n    <div class=\"inline-search\" style=\"display: none\" role=\"search\">\\n        <form class=\"inline-search\" action=\"search.html\" method=\"get\">\\n          <input placeholder=\"Quick search\" type=\"text\" name=\"q\" />\\n          <input type=\"submit\" value=\"Go\" />\\n          <input type=\"hidden\" name=\"check_keywords\" value=\"yes\" />\\n          <input type=\"hidden\" name=\"area\" value=\"default\" />\\n        </form>\\n    </div>\\n    <script type=\"text/javascript\">$(\\'.inline-search\\').show(0);</script>\\n         |\\n    </li>\\n\\n      </ul>\\n    </div>  \\n    <div class=\"footer\">\\n    &copy; <a href=\"copyright.html\">Copyright</a> 2001-2020, Python Software Foundation.\\n    <br />\\n\\n    The Python Software Foundation is a non-profit corporation.\\n<a href=\"https://www.python.org/psf/donations/\">Please donate.</a>\\n<br />\\n    <br />\\n\\n    Last updated on Nov 07, 2020.\\n    <a href=\"https://docs.python.org/3/bugs.html\">Found a bug</a>?\\n    <br />\\n\\n    Created using <a href=\"https://www.sphinx-doc.org/\">Sphinx</a> 2.4.4.\\n    </div>\\n\\n    <script type=\"text/javascript\" src=\"_static/switchers.js\"></script>\\n  </body>\\n</html>'\n",
      "\n",
      "<!DOCTYPE html>\n",
      "\n",
      "<html xmlns=\"http://www.w3.org/1999/xhtml\">\n",
      "  <head>\n",
      "    <meta charset=\"utf-8\" /><title>3.9.0 Documentation</title>\n",
      "    <link rel=\"stylesheet\" href=\"_static/pydoctheme.css\" type=\"text/css\" />\n",
      "    <link rel=\"stylesheet\" href=\"_static/pygments.css\" type=\"text/css\" />\n",
      "    \n",
      "    <script id=\"documentation_options\" data-url_root=\"./\" src=\"_static/documentation_options.js\"></script>\n",
      "    <script src=\"_static/jquery.js\"></script>\n",
      "    <script src=\"_static/underscore.js\"></script>\n",
      "    <script src=\"_static/doctools.js\"></script>\n",
      "    <script src=\"_static/language_data.js\"></script>\n",
      "    \n",
      "    <script src=\"_static/sidebar.js\"></script>\n",
      "    \n",
      "    <link rel=\"search\" type=\"application/opensearchdescription+xml\"\n",
      "          title=\"Search within Python 3.9.0 documentation\"\n",
      "          href=\"_static/opensearch.xml\"/>\n",
      "    <link rel=\"author\" title=\"About these documents\" href=\"about.html\" />\n",
      "    <link rel=\"index\" title=\"Index\" href=\"genindex.html\" />\n",
      "    <link rel=\"search\" title=\"Search\" href=\"search.html\" />\n",
      "    <link rel=\"copyright\" title=\"Copyright\" href=\"copyright.html\" />\n",
      "    <link rel=\"canonical\" href=\"https://docs.python.org/3/index.html\" />\n",
      "    \n",
      "      \n",
      "      \n",
      "    \n",
      "\n",
      "    \n",
      "    <style>\n",
      "      @media only screen {\n",
      "        table.full-width-table {\n",
      "            width: 100%;\n",
      "        }\n",
      "      }\n",
      "    </style>\n",
      "\n",
      "    <link rel=\"shortcut icon\" type=\"image/png\" href=\"_static/py.png\" />\n",
      "    \n",
      "    <script type=\"text/javascript\" src=\"_static/copybutton.js\"></script>\n",
      "    \n",
      "     \n",
      "\n",
      "\n",
      "  </head><body>\n",
      "  \n",
      "    <div class=\"related\" role=\"navigation\" aria-label=\"related navigation\">\n",
      "      <h3>Navigation</h3>\n",
      "      <ul>\n",
      "        <li class=\"right\" style=\"margin-right: 10px\">\n",
      "          <a href=\"genindex.html\" title=\"General Index\"\n",
      "             accesskey=\"I\">index</a></li>\n",
      "        <li class=\"right\" >\n",
      "          <a href=\"py-modindex.html\" title=\"Python Module Index\"\n",
      "             >modules</a> |</li>\n",
      "\n",
      "    <li><img src=\"_static/py.png\" alt=\"\"\n",
      "             style=\"vertical-align: middle; margin-top: -1px\"/></li>\n",
      "    <li><a href=\"https://www.python.org/\">Python</a> &#187;</li>\n",
      "    \n",
      "\n",
      "    <li>\n",
      "      <a href=\"#\">3.9.0 Documentation</a> &#187;\n",
      "    </li>\n",
      "\n",
      "    <li class=\"right\">\n",
      "        \n",
      "\n",
      "    <div class=\"inline-search\" style=\"display: none\" role=\"search\">\n",
      "        <form class=\"inline-search\" action=\"search.html\" method=\"get\">\n",
      "          <input placeholder=\"Quick search\" type=\"text\" name=\"q\" />\n",
      "          <input type=\"submit\" value=\"Go\" />\n",
      "          <input type=\"hidden\" name=\"check_keywords\" value=\"yes\" />\n",
      "          <input type=\"hidden\" name=\"area\" value=\"default\" />\n",
      "        </form>\n",
      "    </div>\n",
      "    <script type=\"text/javascript\">$('.inline-search').show(0);</script>\n",
      "         |\n",
      "    </li>\n",
      "\n",
      "      </ul>\n",
      "    </div>    \n",
      "\n",
      "    <div class=\"document\">\n",
      "      <div class=\"documentwrapper\">\n",
      "        <div class=\"bodywrapper\">\n",
      "          <div class=\"body\" role=\"main\">\n",
      "            \n",
      "  <h1>Python 3.9.0 documentation</h1>\n",
      "  <p>\n",
      "  Welcome! This is the documentation for Python 3.9.0.\n",
      "  </p>\n",
      "  <p><strong>Parts of the documentation:</strong></p>\n",
      "  <table class=\"contentstable\" align=\"center\"><tr>\n",
      "    <td width=\"50%\">\n",
      "      <p class=\"biglink\"><a class=\"biglink\" href=\"whatsnew/3.9.html\">What's new in Python 3.9?</a><br/>\n",
      "        <span class=\"linkdescr\"> or <a href=\"whatsnew/index.html\">all \"What's new\" documents</a> since 2.0</span></p>\n",
      "      <p class=\"biglink\"><a class=\"biglink\" href=\"tutorial/index.html\">Tutorial</a><br/>\n",
      "         <span class=\"linkdescr\">start here</span></p>\n",
      "      <p class=\"biglink\"><a class=\"biglink\" href=\"library/index.html\">Library Reference</a><br/>\n",
      "         <span class=\"linkdescr\">keep this under your pillow</span></p>\n",
      "      <p class=\"biglink\"><a class=\"biglink\" href=\"reference/index.html\">Language Reference</a><br/>\n",
      "         <span class=\"linkdescr\">describes syntax and language elements</span></p>\n",
      "      <p class=\"biglink\"><a class=\"biglink\" href=\"using/index.html\">Python Setup and Usage</a><br/>\n",
      "         <span class=\"linkdescr\">how to use Python on different platforms</span></p>\n",
      "      <p class=\"biglink\"><a class=\"biglink\" href=\"howto/index.html\">Python HOWTOs</a><br/>\n",
      "         <span class=\"linkdescr\">in-depth documents on specific topics</span></p>\n",
      "    </td><td width=\"50%\">\n",
      "      <p class=\"biglink\"><a class=\"biglink\" href=\"installing/index.html\">Installing Python Modules</a><br/>\n",
      "         <span class=\"linkdescr\">installing from the Python Package Index &amp; other sources</span></p>\n",
      "      <p class=\"biglink\"><a class=\"biglink\" href=\"distributing/index.html\">Distributing Python Modules</a><br/>\n",
      "         <span class=\"linkdescr\">publishing modules for installation by others</span></p>\n",
      "      <p class=\"biglink\"><a class=\"biglink\" href=\"extending/index.html\">Extending and Embedding</a><br/>\n",
      "         <span class=\"linkdescr\">tutorial for C/C++ programmers</span></p>\n",
      "      <p class=\"biglink\"><a class=\"biglink\" href=\"c-api/index.html\">Python/C API</a><br/>\n",
      "         <span class=\"linkdescr\">reference for C/C++ programmers</span></p>\n",
      "      <p class=\"biglink\"><a class=\"biglink\" href=\"faq/index.html\">FAQs</a><br/>\n",
      "         <span class=\"linkdescr\">frequently asked questions (with answers!)</span></p>\n",
      "    </td></tr>\n",
      "  </table>\n",
      "\n",
      "  <p><strong>Indices and tables:</strong></p>\n",
      "  <table class=\"contentstable\" align=\"center\"><tr>\n",
      "    <td width=\"50%\">\n",
      "      <p class=\"biglink\"><a class=\"biglink\" href=\"py-modindex.html\">Global Module Index</a><br/>\n",
      "         <span class=\"linkdescr\">quick access to all modules</span></p>\n",
      "      <p class=\"biglink\"><a class=\"biglink\" href=\"genindex.html\">General Index</a><br/>\n",
      "         <span class=\"linkdescr\">all functions, classes, terms</span></p>\n",
      "      <p class=\"biglink\"><a class=\"biglink\" href=\"glossary.html\">Glossary</a><br/>\n",
      "         <span class=\"linkdescr\">the most important terms explained</span></p>\n",
      "    </td><td width=\"50%\">\n",
      "      <p class=\"biglink\"><a class=\"biglink\" href=\"search.html\">Search page</a><br/>\n",
      "         <span class=\"linkdescr\">search this documentation</span></p>\n",
      "      <p class=\"biglink\"><a class=\"biglink\" href=\"contents.html\">Complete Table of Contents</a><br/>\n",
      "         <span class=\"linkdescr\">lists all sections and subsections</span></p>\n",
      "    </td></tr>\n",
      "  </table>\n",
      "\n",
      "  <p><strong>Meta information:</strong></p>\n",
      "  <table class=\"contentstable\" align=\"center\"><tr>\n",
      "    <td width=\"50%\">\n",
      "      <p class=\"biglink\"><a class=\"biglink\" href=\"bugs.html\">Reporting bugs</a></p>\n",
      "      <p class=\"biglink\"><a class=\"biglink\" href=\"https://devguide.python.org/docquality/#helping-with-documentation\">Contributing to Docs</a></p>\n",
      "      <p class=\"biglink\"><a class=\"biglink\" href=\"about.html\">About the documentation</a></p>\n",
      "    </td><td width=\"50%\">\n",
      "      <p class=\"biglink\"><a class=\"biglink\" href=\"license.html\">History and License of Python</a></p>\n",
      "      <p class=\"biglink\"><a class=\"biglink\" href=\"copyright.html\">Copyright</a></p>\n",
      "    </td></tr>\n",
      "  </table>\n",
      "\n",
      "          </div>\n",
      "        </div>\n",
      "      </div>\n",
      "      <div class=\"sphinxsidebar\" role=\"navigation\" aria-label=\"main navigation\">\n",
      "        <div class=\"sphinxsidebarwrapper\"><h3>Download</h3>\n",
      "<p><a href=\"download.html\">Download these documents</a></p>\n",
      "<h3>Docs by version</h3>\n",
      "<ul>\n",
      "  <li><a href=\"https://docs.python.org/3.10/\">Python 3.10 (in development)</a></li>\n",
      "<li><a href=\"https://docs.python.org/3.9/\">Python 3.9 (stable)</a></li>\n",
      "<li><a href=\"https://docs.python.org/3.8/\">Python 3.8 (stable)</a></li>\n",
      "<li><a href=\"https://docs.python.org/3.7/\">Python 3.7 (security-fixes)</a></li>\n",
      "<li><a href=\"https://docs.python.org/3.6/\">Python 3.6 (security-fixes)</a></li>\n",
      "<li><a href=\"https://docs.python.org/3.5/\">Python 3.5 (security-fixes)</a></li>\n",
      "<li><a href=\"https://docs.python.org/2.7/\">Python 2.7 (EOL)</a></li>\n",
      "  <li><a href=\"https://www.python.org/doc/versions/\">All versions</a></li>\n",
      "</ul>\n",
      "\n",
      "<h3>Other resources</h3>\n",
      "<ul>\n",
      "  \n",
      "  <li><a href=\"https://www.python.org/dev/peps/\">PEP Index</a></li>\n",
      "  <li><a href=\"https://wiki.python.org/moin/BeginnersGuide\">Beginner's Guide</a></li>\n",
      "  <li><a href=\"https://wiki.python.org/moin/PythonBooks\">Book List</a></li>\n",
      "  <li><a href=\"https://www.python.org/doc/av/\">Audio/Visual Talks</a></li>\n",
      "  <li><a href=\"https://devguide.python.org/\">Python Developerâs Guide</a></li>\n",
      "</ul>\n",
      "        </div>\n",
      "      </div>\n",
      "      <div class=\"clearer\"></div>\n",
      "    </div>  \n",
      "    <div class=\"related\" role=\"navigation\" aria-label=\"related navigation\">\n",
      "      <h3>Navigation</h3>\n",
      "      <ul>\n",
      "        <li class=\"right\" style=\"margin-right: 10px\">\n",
      "          <a href=\"genindex.html\" title=\"General Index\"\n",
      "             >index</a></li>\n",
      "        <li class=\"right\" >\n",
      "          <a href=\"py-modindex.html\" title=\"Python Module Index\"\n",
      "             >modules</a> |</li>\n",
      "\n",
      "    <li><img src=\"_static/py.png\" alt=\"\"\n",
      "             style=\"vertical-align: middle; margin-top: -1px\"/></li>\n",
      "    <li><a href=\"https://www.python.org/\">Python</a> &#187;</li>\n",
      "    \n",
      "\n",
      "    <li>\n",
      "      <a href=\"#\">3.9.0 Documentation</a> &#187;\n",
      "    </li>\n",
      "\n",
      "    <li class=\"right\">\n",
      "        \n",
      "\n",
      "    <div class=\"inline-search\" style=\"display: none\" role=\"search\">\n",
      "        <form class=\"inline-search\" action=\"search.html\" method=\"get\">\n",
      "          <input placeholder=\"Quick search\" type=\"text\" name=\"q\" />\n",
      "          <input type=\"submit\" value=\"Go\" />\n",
      "          <input type=\"hidden\" name=\"check_keywords\" value=\"yes\" />\n",
      "          <input type=\"hidden\" name=\"area\" value=\"default\" />\n",
      "        </form>\n",
      "    </div>\n",
      "    <script type=\"text/javascript\">$('.inline-search').show(0);</script>\n",
      "         |\n",
      "    </li>\n",
      "\n",
      "      </ul>\n",
      "    </div>  \n",
      "    <div class=\"footer\">\n",
      "    &copy; <a href=\"copyright.html\">Copyright</a> 2001-2020, Python Software Foundation.\n",
      "    <br />\n",
      "\n",
      "    The Python Software Foundation is a non-profit corporation.\n",
      "<a href=\"https://www.python.org/psf/donations/\">Please donate.</a>\n",
      "<br />\n",
      "    <br />\n",
      "\n",
      "    Last updated on Nov 07, 2020.\n",
      "    <a href=\"https://docs.python.org/3/bugs.html\">Found a bug</a>?\n",
      "    <br />\n",
      "\n",
      "    Created using <a href=\"https://www.sphinx-doc.org/\">Sphinx</a> 2.4.4.\n",
      "    </div>\n",
      "\n",
      "    <script type=\"text/javascript\" src=\"_static/switchers.js\"></script>\n",
      "  </body>\n",
      "</html>\n"
     ]
    }
   ],
   "source": [
    "import requests\n",
    "res = requests.get('https://docs.python.org/3/')  # запрос\n",
    "print(res.status_code)     # проверка статус кода\n",
    "print(res.headers['Content-Type']) # тип содержимого\n",
    "\n",
    "print(res.content) #тело ответа(все содержимое в ссылке)\n",
    "print()\n",
    "print(res.text) # выводит текстовые данные\n"
   ]
  },
  {
   "cell_type": "code",
   "execution_count": 8,
   "metadata": {
    "scrolled": true
   },
   "outputs": [
    {
     "name": "stdout",
     "output_type": "stream",
     "text": [
      "200\n",
      "image/png\n",
      "b'\\x89PNG\\r\\n\\x1a\\n\\x00\\x00\\x00\\rIHDR\\x00\\x00\\x00\\x10\\x00\\x00\\x00\\x10\\x08\\x06\\x00\\x00\\x00\\x1f\\xf3\\xffa\\x00\\x00\\x00\\x01sRGB\\x00\\xae\\xce\\x1c\\xe9\\x00\\x00\\x00\\x06bKGD\\x00\\xff\\x00\\xff\\x00\\xff\\xa0\\xbd\\xa7\\x93\\x00\\x00\\x00\\tpHYs\\x00\\x00\\x0b\\x13\\x00\\x00\\x0b\\x13\\x01\\x00\\x9a\\x9c\\x18\\x00\\x00\\x00\\x07tIME\\x07\\xd8\\x04\\x1b\\x118!\\x063\\'^\\x00\\x00\\x027IDAT8\\xcbe\\x93OHUA\\x14\\x87\\xbf{\\xdf\\xb3w{\"\\x94\\x10\\xa5\\xd1&hS\\x8b6\\xadZ\\xb4\\x10\\x1emB*xP\\xdb\\xc0MQ\\xae\\xdd\\x04A\\x8b \"\\xda)mZH\\x1b\\x17\\x91 F\\x11EF\\x98\\x96\\xb6\\xb5\\x88\\xcc2\\x15\\xd4\\xfc\\xf3\\xee\\x9dy3g\\xe6\\xb6\\xf0\\xde\\xbc\\xea\\x81\\xc3\\xc0\\xcc\\xf7;\\xe77\\xcc\\x9c\\x80]\\xd1\\xfd\\xe0\\xed3i\\x9as\\xde\\x99v\\xb1M\\xc4\\x18\\xa4\\xa9\\xb4U\\xfa\\xf1\\xc7\\xfe\\xeb}\\x80\\x06\\\\\\xce\\x87\\xbb\\x0bx\\'\\x17G\\xfaj\\xedN,\\xceZ\\xbcX\\xbcwQ\\x1a\\xf8\\x9b\\xc01 *\\xf2{\\n8k9\\x7fg\\x18\\'v;\\xad\\xcd\\x8f;\\x80j\\x91/\\x03t?|\\x7f\\xdb[{\\\\\\xac\\n\\x8cN\\x06\\x8dj\\x94E\\xc7%g\\x0c\\xe1\\xbeJ=M}\\xceW\\x80\\xd2\\x8e\\x02\\x97\\x1f}x\\xed\\xc4v\\xa5^\\xc0{\\x02\\xa0Tn\\x81J\\x15\\x82\\x12N\\xec\\x0e\\x87\\xe9\\\\}\\xc1\\xdbX\\x8bn\\xdc\\xaf\\x9czw/\\xf4\\xdeumY5;mg\\x99\\x87\\xa8\\xcdQ\\xc0\"\\t\\xa1SQ\\x19}\\x03\\xe8,\\xe7\\xa0/\\x88|\\xe1\\xdei\\xea\\xb5\\xd3\\xf1\\x9b\\xa9\\'}\\x03\\xcbS\\xb5\\x1a\\xa2@\\x12B\\xaf\\xda\\x81\\x8e\\xf2\\x0e\\xb1\\xb5\\xe8\\xc6\\xda\\xe8\\xfc\\xf8\\xf0\\xd3\\xf9\\xe9Wk\\x80\\x00)`\\xe6\\xc6j\\'\\x0f\\xb6J/N\\x81K@\\x12\\x80\\xfde1M\\xed\\xc5FN,j}yhb\\xa0wp\\xe3\\xe7\\xad+\\xad\\xd1\\x89K\\xa1S\\xd1\\x7fXb\\xf2\\xee\\x88\\xc2\\x8b\\xd6@\\x10:\\x91\\xd9\\xdc\\xfa\\x9f\\xc9\\x97\\xcf\\xe3_\\xbd=mU\\x7f5\\xf4EqR\\x10\\'\\xe04I\\x92N\\x02&t:\\xee\\x17c\\xb4\\x13\\xcb\\xef\\xa9\\x91\\xb5j\\xe4.l\\x0b\\n\\xa2\\x82\\x18`zF\\xbf\\x006\\x83\\xecgu\\x00G\\x81f\\xbapm\"\\x87\\x97\\x16\\xff\\x0e\\x95\\xbcJ\\xb7\\x9c(p\\n\\x80o\\xb3\\xe6\\xcb\\xd9\\x9e\\xd5q\\xe0G\\x190\\xc0\"\\xb0\\x01\\xa4\\xc5n\\x87\\x0f\\xb8:\"\\xe0,\\x88%8\\xb3\\xd8\\x054\\x00\\x95\\xf1+!\\xe0\\xb3\\x8d\\x15`\\xd5\\xdbDoY-\\xe4\\xe9\\xaf\\xf84\\xd5\\xd9\\x8b,\\x00\\xdf\\xb35\\xd93\\x0b\\x8d\\x8d\\xf5\\xba\\xd5\\xf1gob\\x9d;\\xb1\\xe3\\x9d3c\\x9f\\xd4]\\xc0\\x02I\\xd6\\xd0\\x02i\\xc0\\xde\\x88\\x80C\\xc0\\x11\\xa0\\rh\\xc9\\\\nf]\\x97\\xb2\\x91\\x06\\xe0\\x1f\\x01\\xbf\\xaf\\xff\\xfc\\x8c\\x00\\x9a\\x00\\x00\\x00\\x00IEND\\xaeB`\\x82'\n",
      "\n"
     ]
    }
   ],
   "source": [
    "res = requests.get('https://docs.python.org/3/_static/py.png')  # запрос на картинку\n",
    "print(res.status_code)     # проверка статус кода\n",
    "print(res.headers['Content-Type']) # тип содержимого\n",
    "\n",
    "with open('python.png', 'wb') as f:\n",
    "    f.write(res.content)                  #записали файл \n",
    "print(res.content) #тело ответа(все содержимое в ссылке)\n",
    "print()"
   ]
  },
  {
   "cell_type": "markdown",
   "metadata": {},
   "source": [
    "## Функция reguests.get  возвращает нам  Response object \n",
    "## Response - это класс в reguests и он содержит в себе описание ответа сервера"
   ]
  },
  {
   "cell_type": "code",
   "execution_count": 10,
   "metadata": {
    "scrolled": true
   },
   "outputs": [
    {
     "name": "stdout",
     "output_type": "stream",
     "text": [
      "200\n",
      "text/html; charset=utf-8\n",
      "https://yandex.ru/search/?text=Stepik\n"
     ]
    }
   ],
   "source": [
    "import requests\n",
    "res = requests.get('https://yandex.ru/search/',\n",
    "                  params={'text': 'Stepik'})  #задаем параметры\n",
    "print(res.status_code)\n",
    "print(res.headers['Content-Type']) \n",
    "print(res.url)\n",
    "\n"
   ]
  },
  {
   "cell_type": "code",
   "execution_count": 11,
   "metadata": {},
   "outputs": [
    {
     "name": "stdout",
     "output_type": "stream",
     "text": [
      "200\n",
      "text/html; charset=utf-8\n",
      "https://yandex.ru/search/?text=Stepik&test=test1&name=Name+With+Space&list=test1&list=test2\n"
     ]
    }
   ],
   "source": [
    "import requests\n",
    "res = requests.get('https://yandex.ru/search/',\n",
    "                  params={\n",
    "                      'text': 'Stepik',\n",
    "                      \"test\": \"test1\",\n",
    "                      \"name\": \"Name With Space\",\n",
    "                      \"list\": [\"test1\", \"test2\"]\n",
    "                  })  #задаем параметры\n",
    "print(res.status_code)\n",
    "print(res.headers['Content-Type']) \n",
    "print(res.url)"
   ]
  },
  {
   "cell_type": "markdown",
   "metadata": {},
   "source": [
    "# Задачи"
   ]
  },
  {
   "cell_type": "markdown",
   "metadata": {},
   "source": [
    "Условие 1\n",
    "https://stepik.org/lesson/24471/step/6?unit=6780"
   ]
  },
  {
   "cell_type": "code",
   "execution_count": null,
   "metadata": {},
   "outputs": [],
   "source": [
    "# Мое решение\n",
    "import requests as req\n",
    "import re\n",
    "\n",
    "\n",
    "class httpget():\n",
    "    pattern = r'\"https://.+\\.html\"'\n",
    "\n",
    "    def __init__(self, url):\n",
    "        self.url = url\n",
    "        try:\n",
    "            self.http = req.get(url).text.strip()\n",
    "        except:\n",
    "            self.http = ''\n",
    "\n",
    "        self.URLlst = list(map(lambda x: x[1:-1], re.findall(httpget.pattern, self.http)))    \n",
    "\n",
    "k = 0\n",
    "\n",
    "url1, url2 = (httpget(input()) for i in range(2))\n",
    "\n",
    "for i in url1.URLlst:\n",
    "    i = httpget(i)\n",
    "    for j in i.URLlst:\n",
    "        if j==url2.url:\n",
    "            k = 1\n",
    "            print('Yes')\n",
    "            break\n",
    "    if k==1:\n",
    "        break\n",
    "\n",
    "if k == 0:\n",
    "    print('No')\n",
    "\n",
    "# Код был красивый, пока не начал под тесты подстраивать(оказывается не нужно было) прогледел маленькую вещь"
   ]
  },
  {
   "cell_type": "code",
   "execution_count": null,
   "metadata": {},
   "outputs": [],
   "source": [
    "# Решение автора\n",
    "import re\n",
    "import requests\n",
    "\n",
    "start_url = input()\n",
    "end_url = input()\n",
    "\n",
    "found = False\n",
    "\n",
    "link_pattern = re.compile(r'<a[^>]*?href=\"(.*?)\"[^>]*?>')\n",
    "\n",
    "resp = requests.get(start_url).text\n",
    "for url in link_pattern.findall(resp):\n",
    "    cur_resp = requests.get(url).text\n",
    "    if end_url in link_pattern.findall(cur_resp):\n",
    "        found = True\n",
    "        break\n",
    "\n",
    "print(\"Yes\" if found else \"No\")\n",
    "# как же легко"
   ]
  }
 ],
 "metadata": {
  "kernelspec": {
   "display_name": "Python 3.8.5 64-bit",
   "language": "python",
   "name": "python38564bitaf0bb5075d664e98af35ce1e7d7bf570"
  },
  "language_info": {
   "codemirror_mode": {
    "name": "ipython",
    "version": 3
   },
   "file_extension": ".py",
   "mimetype": "text/x-python",
   "name": "python",
   "nbconvert_exporter": "python",
   "pygments_lexer": "ipython3",
   "version": "3.8.5"
  }
 },
 "nbformat": 4,
 "nbformat_minor": 4
}
